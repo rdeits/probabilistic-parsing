{
 "cells": [
  {
   "cell_type": "code",
   "execution_count": 1,
   "metadata": {},
   "outputs": [],
   "source": [
    "using Pkg\n",
    "pkg\"activate .\""
   ]
  },
  {
   "cell_type": "code",
   "execution_count": 15,
   "metadata": {},
   "outputs": [],
   "source": [
    "using BenchmarkTools\n",
    "using Test"
   ]
  },
  {
   "cell_type": "code",
   "execution_count": 97,
   "metadata": {},
   "outputs": [
    {
     "name": "stderr",
     "output_type": "stream",
     "text": [
      "WARNING: replacing module Cryptics.\n"
     ]
    },
    {
     "data": {
      "text/plain": [
       "Main.Cryptics"
      ]
     },
     "execution_count": 97,
     "metadata": {},
     "output_type": "execute_result"
    }
   ],
   "source": [
    "include(\"Cryptics/src/Cryptics.jl\")"
   ]
  },
  {
   "cell_type": "code",
   "execution_count": 98,
   "metadata": {},
   "outputs": [
    {
     "data": {
      "text/plain": [
       "(AnagramIndicator (Token) -> String[])"
      ]
     },
     "execution_count": 98,
     "metadata": {},
     "output_type": "execute_result"
    }
   ],
   "source": [
    "a1 = Cryptics.Arc(0, 1, Cryptics.AnagramIndicator() => (Cryptics.Token(),), [], [])"
   ]
  },
  {
   "cell_type": "code",
   "execution_count": 99,
   "metadata": {},
   "outputs": [
    {
     "data": {
      "text/plain": [
       "(Token -> [\"broken\"])"
      ]
     },
     "execution_count": 99,
     "metadata": {},
     "output_type": "execute_result"
    }
   ],
   "source": [
    "a2 = Cryptics.Arc(0, 1, Cryptics.Token() => (), [], [\"broken\"])"
   ]
  },
  {
   "cell_type": "code",
   "execution_count": 100,
   "metadata": {},
   "outputs": [
    {
     "name": "stdout",
     "output_type": "stream",
     "text": [
      "a1.rule = AnagramIndicator() => (Token(),)\n",
      "constituents = Main.Cryptics.Arc[(Token -> [\"broken\"])]\n",
      "inputs = (\"broken\",)\n"
     ]
    },
    {
     "data": {
      "text/plain": [
       "(AnagramIndicator (Token -> [\"broken\"]) -> [\"broken\"])"
      ]
     },
     "execution_count": 100,
     "metadata": {},
     "output_type": "execute_result"
    }
   ],
   "source": [
    "a1 + a2"
   ]
  },
  {
   "cell_type": "code",
   "execution_count": 101,
   "metadata": {},
   "outputs": [
    {
     "name": "stdout",
     "output_type": "stream",
     "text": [
      "a1.rule = Definition() => (Token(),)\n",
      "constituents = Main.Cryptics.Arc[(Token -> [\"spin\"])]\n",
      "inputs = (\"spin\",)\n",
      "a1.rule = AnagramIndicator() => (Token(),)\n",
      "constituents = Main.Cryptics.Arc[(Token -> [\"spin\"])]\n",
      "inputs = (\"spin\",)\n",
      "a1.rule = Anagram() => (AnagramIndicator(), Token())\n",
      "constituents = Main.Cryptics.Arc[(AnagramIndicator (Token -> [\"spin\"]) -> [\"spin\"]), (Token -> [\"broken\"])]\n",
      "inputs = (\"spin\", \"broken\")\n",
      "a1.rule = Definition() => (Token(),)\n",
      "constituents = Main.Cryptics.Arc[(Token -> [\"broken\"])]\n",
      "inputs = (\"broken\",)\n",
      "a1.rule = AnagramIndicator() => (Token(),)\n",
      "constituents = Main.Cryptics.Arc[(Token -> [\"broken\"])]\n",
      "inputs = (\"broken\",)\n",
      "a1.rule = Anagram() => (Token(), AnagramIndicator())\n",
      "constituents = Main.Cryptics.Arc[(Token -> [\"spin\"]), (AnagramIndicator (Token -> [\"broken\"]) -> [\"broken\"])]\n",
      "inputs = (\"spin\", \"broken\")\n",
      "a1.rule = Wordplay() => (Anagram(),)\n",
      "constituents = Main.Cryptics.Arc[(Anagram\n",
      "  (Token -> [\"spin\"])\n",
      "  (AnagramIndicator (Token -> [\"broken\"]) -> [\"broken\"]) -> [\"spin\", \"nips\"])]\n",
      "inputs = (\"spin\",)\n",
      "inputs = (\"nips\",)\n",
      "a1.rule = Wordplay() => (Anagram(),)\n",
      "constituents = Main.Cryptics.Arc[(Anagram\n",
      "  (AnagramIndicator (Token -> [\"spin\"]) -> [\"spin\"])\n",
      "  (Token -> [\"broken\"]) -> [\"broken\", \"nekorb\"])]\n",
      "inputs = (\"broken\",)\n",
      "inputs = (\"nekorb\",)\n",
      "a1.rule = Anagram() => (AnagramIndicator(), Token())\n",
      "constituents = Main.Cryptics.Arc[(AnagramIndicator (Token -> [\"broken\"]) -> [\"broken\"]), (Token -> [\"shingle\"])]\n",
      "inputs = (\"broken\", \"shingle\")\n",
      "a1.rule = Definition() => (Token(),)\n",
      "constituents = Main.Cryptics.Arc[(Token -> [\"shingle\"])]\n",
      "inputs = (\"shingle\",)\n",
      "a1.rule = Clue() => (Wordplay(), Definition())\n",
      "constituents = Main.Cryptics.Arc[(Wordplay (Anagram\n",
      "    (Token -> [\"spin\"])\n",
      "    (AnagramIndicator (Token -> [\"broken\"]) -> [\"broken\"]) -> [\"spin\", \"nips\"]) -> [\"spin\", \"nips\"]), (Definition (Token -> [\"shingle\"]) -> [\"shingle\"])]\n",
      "inputs = (\"spin\", \"shingle\")\n",
      "inputs = (\"nips\", \"shingle\")\n",
      "a1.rule = Clue() => (Wordplay(), Definition())\n",
      "constituents = Main.Cryptics.Arc[(Wordplay (Anagram\n",
      "    (AnagramIndicator (Token -> [\"spin\"]) -> [\"spin\"])\n",
      "    (Token -> [\"broken\"]) -> [\"broken\", \"nekorb\"]) -> [\"broken\", \"nekorb\"]), (Definition (Token -> [\"shingle\"]) -> [\"shingle\"])]\n",
      "inputs = (\"broken\", \"shingle\")\n",
      "inputs = (\"nekorb\", \"shingle\")\n",
      "a1.rule = AnagramIndicator() => (Token(),)\n",
      "constituents = Main.Cryptics.Arc[(Token -> [\"shingle\"])]\n",
      "inputs = (\"shingle\",)\n",
      "a1.rule = Anagram() => (Token(), AnagramIndicator())\n",
      "constituents = Main.Cryptics.Arc[(Token -> [\"broken\"]), (AnagramIndicator (Token -> [\"shingle\"]) -> [\"shingle\"])]\n",
      "inputs = (\"broken\", \"shingle\")\n",
      "a1.rule = Wordplay() => (Anagram(),)\n",
      "constituents = Main.Cryptics.Arc[(Anagram\n",
      "  (Token -> [\"broken\"])\n",
      "  (AnagramIndicator (Token -> [\"shingle\"]) -> [\"shingle\"]) -> [\"broken\", \"nekorb\"])]\n",
      "inputs = (\"broken\",)\n",
      "inputs = (\"nekorb\",)\n",
      "a1.rule = Wordplay() => (Anagram(),)\n",
      "constituents = Main.Cryptics.Arc[(Anagram\n",
      "  (AnagramIndicator (Token -> [\"broken\"]) -> [\"broken\"])\n",
      "  (Token -> [\"shingle\"]) -> [\"shingle\", \"elgnihs\"])]\n",
      "inputs = (\"shingle\",)\n",
      "inputs = (\"elgnihs\",)\n"
     ]
    },
    {
     "data": {
      "text/plain": [
       "Main.Cryptics.Chart(3, Dict{Main.Cryptics.GrammaticalSymbol,Array{Set{Main.Cryptics.Arc},1}}(Token()=>[Set([(Definition (Token) -> String[]), (Anagram\n",
       "  (Token)\n",
       "  (AnagramIndicator) -> String[]), (AnagramIndicator (Token) -> String[])]), Set([(Anagram\n",
       "  (AnagramIndicator (Token -> [\"spin\"]) -> [\"spin\"])\n",
       "  (Token) -> String[]), (Anagram\n",
       "  (Token)\n",
       "  (AnagramIndicator) -> String[]), (AnagramIndicator (Token) -> String[]), (Definition (Token) -> String[])]), Set([(Definition (Token) -> String[]), (Anagram\n",
       "  (Token)\n",
       "  (AnagramIndicator) -> String[]), (Anagram\n",
       "  (AnagramIndicator (Token -> [\"broken\"]) -> [\"broken\"])\n",
       "  (Token) -> String[]), (AnagramIndicator (Token) -> String[])]), Set([(Anagram\n",
       "  (AnagramIndicator (Token -> [\"shingle\"]) -> [\"shingle\"])\n",
       "  (Token) -> String[])])],AnagramIndicator()=>[Set([(Anagram\n",
       "  (AnagramIndicator)\n",
       "  (Token) -> String[])]), Set([(Anagram\n",
       "  (Token -> [\"spin\"])\n",
       "  (AnagramIndicator) -> String[]), (Anagram\n",
       "  (AnagramIndicator)\n",
       "  (Token) -> String[])]), Set([(Anagram\n",
       "  (AnagramIndicator)\n",
       "  (Token) -> String[]), (Anagram\n",
       "  (Token -> [\"broken\"])\n",
       "  (AnagramIndicator) -> String[])]), Set([(Anagram\n",
       "  (Token -> [\"shingle\"])\n",
       "  (AnagramIndicator) -> String[])])],Clue()=>[Set([]), Set([]), Set([]), Set([])],Wordplay()=>[Set([(Clue\n",
       "  (Wordplay)\n",
       "  (Definition) -> String[])]), Set([(Clue\n",
       "  (Wordplay)\n",
       "  (Definition) -> String[])]), Set([]), Set([])],Definition()=>[Set([]), Set([]), Set([(Clue\n",
       "  (Wordplay (Anagram\n",
       "      (Token -> [\"spin\"])\n",
       "      (AnagramIndicator (Token -> [\"broken\"]) -> [\"broken\"]) -> [\"spin\", \"nips\"]) -> [\"spin\", \"nips\"])\n",
       "  (Definition) -> String[]), (Clue\n",
       "  (Wordplay (Anagram\n",
       "      (AnagramIndicator (Token -> [\"spin\"]) -> [\"spin\"])\n",
       "      (Token -> [\"broken\"]) -> [\"broken\", \"nekorb\"]) -> [\"broken\", \"nekorb\"])\n",
       "  (Definition) -> String[])]), Set([(Clue\n",
       "  (Wordplay (Anagram\n",
       "      (AnagramIndicator (Token -> [\"broken\"]) -> [\"broken\"])\n",
       "      (Token -> [\"shingle\"]) -> [\"shingle\", \"elgnihs\"]) -> [\"shingle\", \"elgnihs\"])\n",
       "  (Definition) -> String[]), (Clue\n",
       "  (Wordplay (Anagram\n",
       "      (Token -> [\"broken\"])\n",
       "      (AnagramIndicator (Token -> [\"shingle\"]) -> [\"shingle\"]) -> [\"broken\", \"nekorb\"]) -> [\"broken\", \"nekorb\"])\n",
       "  (Definition) -> String[])])],Anagram()=>[Set([(Wordplay (Anagram) -> String[])]), Set([(Wordplay (Anagram) -> String[])]), Set([]), Set([])]), Dict{Main.Cryptics.GrammaticalSymbol,Array{Set{Main.Cryptics.Arc},1}}(Token()=>[Set([(Token -> [\"spin\"])]), Set([(Token -> [\"broken\"])]), Set([(Token -> [\"shingle\"])]), Set([])],AnagramIndicator()=>[Set([(AnagramIndicator (Token -> [\"spin\"]) -> [\"spin\"])]), Set([(AnagramIndicator (Token -> [\"broken\"]) -> [\"broken\"])]), Set([(AnagramIndicator (Token -> [\"shingle\"]) -> [\"shingle\"])]), Set([])],Clue()=>[Set([(Clue\n",
       "  (Wordplay (Anagram\n",
       "      (Token -> [\"spin\"])\n",
       "      (AnagramIndicator (Token -> [\"broken\"]) -> [\"broken\"]) -> [\"spin\", \"nips\"]) -> [\"spin\", \"nips\"])\n",
       "  (Definition (Token -> [\"shingle\"]) -> [\"shingle\"]) -> [\"spin means shingle\", \"nips means shingle\"]), (Clue\n",
       "  (Wordplay (Anagram\n",
       "      (AnagramIndicator (Token -> [\"spin\"]) -> [\"spin\"])\n",
       "      (Token -> [\"broken\"]) -> [\"broken\", \"nekorb\"]) -> [\"broken\", \"nekorb\"])\n",
       "  (Definition (Token -> [\"shingle\"]) -> [\"shingle\"]) -> [\"broken means shingle\", \"nekorb means shingle\"])]), Set([]), Set([]), Set([])],Wordplay()=>[Set([(Wordplay (Anagram\n",
       "    (Token -> [\"spin\"])\n",
       "    (AnagramIndicator (Token -> [\"broken\"]) -> [\"broken\"]) -> [\"spin\", \"nips\"]) -> [\"spin\", \"nips\"]), (Wordplay (Anagram\n",
       "    (AnagramIndicator (Token -> [\"spin\"]) -> [\"spin\"])\n",
       "    (Token -> [\"broken\"]) -> [\"broken\", \"nekorb\"]) -> [\"broken\", \"nekorb\"])]), Set([(Wordplay (Anagram\n",
       "    (AnagramIndicator (Token -> [\"broken\"]) -> [\"broken\"])\n",
       "    (Token -> [\"shingle\"]) -> [\"shingle\", \"elgnihs\"]) -> [\"shingle\", \"elgnihs\"]), (Wordplay (Anagram\n",
       "    (Token -> [\"broken\"])\n",
       "    (AnagramIndicator (Token -> [\"shingle\"]) -> [\"shingle\"]) -> [\"broken\", \"nekorb\"]) -> [\"broken\", \"nekorb\"])]), Set([]), Set([])],Definition()=>[Set([(Definition (Token -> [\"spin\"]) -> [\"spin\"])]), Set([(Definition (Token -> [\"broken\"]) -> [\"broken\"])]), Set([(Definition (Token -> [\"shingle\"]) -> [\"shingle\"])]), Set([])],Anagram()=>[Set([(Anagram\n",
       "  (AnagramIndicator (Token -> [\"spin\"]) -> [\"spin\"])\n",
       "  (Token -> [\"broken\"]) -> [\"broken\", \"nekorb\"]), (Anagram\n",
       "  (Token -> [\"spin\"])\n",
       "  (AnagramIndicator (Token -> [\"broken\"]) -> [\"broken\"]) -> [\"spin\", \"nips\"])]), Set([(Anagram\n",
       "  (Token -> [\"broken\"])\n",
       "  (AnagramIndicator (Token -> [\"shingle\"]) -> [\"shingle\"]) -> [\"broken\", \"nekorb\"]), (Anagram\n",
       "  (AnagramIndicator (Token -> [\"broken\"]) -> [\"broken\"])\n",
       "  (Token -> [\"shingle\"]) -> [\"shingle\", \"elgnihs\"])]), Set([]), Set([])]))"
      ]
     },
     "execution_count": 101,
     "metadata": {},
     "output_type": "execute_result"
    }
   ],
   "source": [
    "clue = \"spin broken shingle\"\n",
    "rules = Cryptics.cryptics_rules()\n",
    "grammar = Cryptics.Grammar(rules)\n",
    "tokens = split(clue)\n",
    "chart = Cryptics.parse(tokens, grammar)"
   ]
  },
  {
   "cell_type": "code",
   "execution_count": null,
   "metadata": {},
   "outputs": [],
   "source": []
  },
  {
   "cell_type": "code",
   "execution_count": 18,
   "metadata": {},
   "outputs": [],
   "source": [
    "rule = Cryptics.Synonym() => (Cryptics.Token(),)\n",
    "\n",
    "arc = Cryptics.Arc(0, 1, rule, [\"hi\"], nothing);"
   ]
  },
  {
   "cell_type": "code",
   "execution_count": 19,
   "metadata": {},
   "outputs": [
    {
     "data": {
      "text/plain": [
       "2-element Array{String,1}:\n",
       " \"hello\"    \n",
       " \"greetings\""
      ]
     },
     "execution_count": 19,
     "metadata": {},
     "output_type": "execute_result"
    }
   ],
   "source": [
    "Cryptics.apply(arc)"
   ]
  },
  {
   "cell_type": "code",
   "execution_count": 21,
   "metadata": {},
   "outputs": [],
   "source": [
    "using Base.Iterators"
   ]
  },
  {
   "cell_type": "code",
   "execution_count": null,
   "metadata": {},
   "outputs": [],
   "source": [
    "Iterators."
   ]
  },
  {
   "cell_type": "code",
   "execution_count": 20,
   "metadata": {},
   "outputs": [
    {
     "name": "stdout",
     "output_type": "stream",
     "text": [
      "  62.227 ns (1 allocation: 96 bytes)\n"
     ]
    },
    {
     "data": {
      "text/plain": [
       "2-element Array{String,1}:\n",
       " \"hello\"    \n",
       " \"greetings\""
      ]
     },
     "execution_count": 20,
     "metadata": {},
     "output_type": "execute_result"
    }
   ],
   "source": [
    "@btime Cryptics.apply($arc)"
   ]
  },
  {
   "cell_type": "code",
   "execution_count": null,
   "metadata": {},
   "outputs": [],
   "source": [
    "clue = "
   ]
  },
  {
   "cell_type": "code",
   "execution_count": 8,
   "metadata": {},
   "outputs": [
    {
     "data": {
      "text/plain": [
       "(Syn \"spin\" -> \"english\")"
      ]
     },
     "execution_count": 8,
     "metadata": {},
     "output_type": "execute_result"
    }
   ],
   "source": [
    "Cryptics.Arc(0, 1, :Syn => [:W], [\"spin\"], \"english\")"
   ]
  },
  {
   "cell_type": "code",
   "execution_count": 20,
   "metadata": {},
   "outputs": [
    {
     "name": "stderr",
     "output_type": "stream",
     "text": [
      "WARNING: replacing module Kinds.\n"
     ]
    },
    {
     "data": {
      "text/plain": [
       "Main.Kinds"
      ]
     },
     "execution_count": 20,
     "metadata": {},
     "output_type": "execute_result"
    }
   ],
   "source": [
    "module Kinds\n",
    "\n",
    "struct Syn\n",
    "end\n",
    "\n",
    "struct Ana\n",
    "end\n",
    "\n",
    "struct Rev\n",
    "end\n",
    "\n",
    "struct Sub\n",
    "end\n",
    "\n",
    "struct Phrase\n",
    "end\n",
    "\n",
    "struct Arc\n",
    "    start::Int\n",
    "    stop::Int\n",
    "    kind\n",
    "end\n",
    "\n",
    "function apply(::Syn, word::String)\n",
    "    [\"hi\", \"greetings\"]\n",
    "end\n",
    "\n",
    "function apply(::Ana, word::String)\n",
    "    [\"elloh\", \"leloh\"]\n",
    "end\n",
    "\n",
    "function apply(::Rev, word::String)\n",
    "    [\"olleh\"]\n",
    "end\n",
    "\n",
    "function apply(::Sub, word::String)\n",
    "    [\"ello\", \"llo\", \"lo\"]\n",
    "end\n",
    "\n",
    "function apply(::Phrase, word::String)\n",
    "    [\"hello there\"]\n",
    "end\n",
    "\n",
    "function apply(arc::Arc, word::String)\n",
    "    apply(arc.kind, word)::Vector{String}\n",
    "end\n",
    "\n",
    "end"
   ]
  },
  {
   "cell_type": "code",
   "execution_count": 21,
   "metadata": {},
   "outputs": [],
   "source": [
    "using BenchmarkTools"
   ]
  },
  {
   "cell_type": "code",
   "execution_count": 22,
   "metadata": {},
   "outputs": [
    {
     "data": {
      "text/plain": [
       "Main.Kinds.Arc(0, 1, Main.Kinds.Syn())"
      ]
     },
     "execution_count": 22,
     "metadata": {},
     "output_type": "execute_result"
    }
   ],
   "source": [
    "a = Kinds.Arc(0, 1, Kinds.Syn())"
   ]
  },
  {
   "cell_type": "code",
   "execution_count": 23,
   "metadata": {},
   "outputs": [
    {
     "data": {
      "text/plain": [
       "2-element Array{String,1}:\n",
       " \"hi\"       \n",
       " \"greetings\""
      ]
     },
     "execution_count": 23,
     "metadata": {},
     "output_type": "execute_result"
    }
   ],
   "source": [
    "Kinds.apply(a, \"hello\")"
   ]
  },
  {
   "cell_type": "code",
   "execution_count": 24,
   "metadata": {},
   "outputs": [
    {
     "name": "stdout",
     "output_type": "stream",
     "text": [
      "  46.752 ns (1 allocation: 96 bytes)\n"
     ]
    },
    {
     "data": {
      "text/plain": [
       "2-element Array{String,1}:\n",
       " \"hi\"       \n",
       " \"greetings\""
      ]
     },
     "execution_count": 24,
     "metadata": {},
     "output_type": "execute_result"
    }
   ],
   "source": [
    "@btime Kinds.apply($a, $(\"hello\"))"
   ]
  },
  {
   "cell_type": "code",
   "execution_count": null,
   "metadata": {},
   "outputs": [],
   "source": []
  }
 ],
 "metadata": {
  "@webio": {
   "lastCommId": "d99e3f7c93934b1491ce56a7a4192493",
   "lastKernelId": "f1acea94-c903-418b-852b-7e28b9edd37f"
  },
  "kernelspec": {
   "display_name": "Julia 1.0.2",
   "language": "julia",
   "name": "julia-1.0"
  },
  "language_info": {
   "file_extension": ".jl",
   "mimetype": "application/julia",
   "name": "julia",
   "version": "1.0.2"
  }
 },
 "nbformat": 4,
 "nbformat_minor": 2
}
