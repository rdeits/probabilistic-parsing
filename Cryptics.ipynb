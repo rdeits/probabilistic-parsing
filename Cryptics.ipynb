{
 "cells": [
  {
   "cell_type": "code",
   "execution_count": 1,
   "metadata": {},
   "outputs": [],
   "source": [
    "using Pkg\n",
    "pkg\"activate .\""
   ]
  },
  {
   "cell_type": "code",
   "execution_count": 2,
   "metadata": {},
   "outputs": [
    {
     "name": "stderr",
     "output_type": "stream",
     "text": [
      "┌ Info: Recompiling stale cache file /home/rdeits/.julia/compiled/v1.0/Cryptics/75iOF.ji for Cryptics [0fbdecee-01fc-11e9-134a-45d008bceca4]\n",
      "└ @ Base loading.jl:1190\n"
     ]
    }
   ],
   "source": [
    "using Cryptics"
   ]
  },
  {
   "cell_type": "code",
   "execution_count": 3,
   "metadata": {},
   "outputs": [
    {
     "data": {
      "text/plain": [
       "(AnagramIndicator (Token) -> )"
      ]
     },
     "execution_count": 3,
     "metadata": {},
     "output_type": "execute_result"
    }
   ],
   "source": [
    "a1 = Cryptics.Arc(0, 1, Cryptics.AnagramIndicator() => (Cryptics.Token(),))"
   ]
  },
  {
   "cell_type": "code",
   "execution_count": 4,
   "metadata": {},
   "outputs": [
    {
     "data": {
      "text/plain": [
       "(Token -> broken)"
      ]
     },
     "execution_count": 4,
     "metadata": {},
     "output_type": "execute_result"
    }
   ],
   "source": [
    "a2 = Cryptics.Arc(0, 1, Cryptics.Token() => (), [], \"broken\")"
   ]
  },
  {
   "cell_type": "code",
   "execution_count": 5,
   "metadata": {},
   "outputs": [
    {
     "name": "stdout",
     "output_type": "stream",
     "text": [
      "(AnagramIndicator (Token -> broken) -> broken)\n"
     ]
    },
    {
     "data": {
      "text/plain": [
       "1-element Array{Cryptics.Arc,1}:\n",
       " (AnagramIndicator (Token -> broken) -> broken)"
      ]
     },
     "execution_count": 5,
     "metadata": {},
     "output_type": "execute_result"
    }
   ],
   "source": [
    "Cryptics.combinations(a1, a2)"
   ]
  },
  {
   "cell_type": "code",
   "execution_count": 14,
   "metadata": {
    "scrolled": false
   },
   "outputs": [
    {
     "name": "stdout",
     "output_type": "stream",
     "text": [
      "candidate = (0, 0 Clue\n",
      "  (Wordplay)\n",
      "  (Definition) -> )\n",
      "predicting: (0, 0 Wordplay (Token) -> )\n",
      "predicting: (0, 0 Wordplay (Anagram) -> )\n",
      "candidate = (0, 0 Wordplay (Anagram) -> )\n",
      "predicting: (0, 0 Anagram\n",
      "  (AnagramIndicator)\n",
      "  (Token) -> )\n",
      "predicting: (0, 0 Anagram\n",
      "  (Token)\n",
      "  (AnagramIndicator) -> )\n",
      "candidate = (0, 0 Anagram\n",
      "  (Token)\n",
      "  (AnagramIndicator) -> )\n",
      "predicting: (0, 0 Token\n",
      "  (Token)\n",
      "  (Token) -> )\n",
      "candidate = (0, 0 Token\n",
      "  (Token)\n",
      "  (Token) -> )\n",
      "candidate = (0, 1 Token\n",
      "  (0, 1 Token -> spin)\n",
      "  (Token) -> )\n",
      "(0, 2 Token\n",
      "  (0, 1 Token -> spin)\n",
      "  (1, 2 Token -> broken) -> spin broken)\n",
      "predicting: (1, 1 Token\n",
      "  (Token)\n",
      "  (Token) -> )\n",
      "candidate = (1, 1 Token\n",
      "  (Token)\n",
      "  (Token) -> )\n",
      "candidate = (1, 2 Token\n",
      "  (1, 2 Token -> broken)\n",
      "  (Token) -> )\n",
      "(1, 3 Token\n",
      "  (1, 2 Token -> broken)\n",
      "  (2, 3 Token -> shingle) -> broken shingle)\n",
      "predicting: (2, 2 Token\n",
      "  (Token)\n",
      "  (Token) -> )\n",
      "candidate = (2, 2 Token\n",
      "  (Token)\n",
      "  (Token) -> )\n",
      "candidate = (2, 3 Token\n",
      "  (2, 3 Token -> shingle)\n",
      "  (Token) -> )\n",
      "predicting: (3, 3 Token\n",
      "  (Token)\n",
      "  (Token) -> )\n",
      "candidate = (3, 3 Token\n",
      "  (Token)\n",
      "  (Token) -> )\n",
      "candidate = (1, 3 Token\n",
      "  (1, 2 Token -> broken)\n",
      "  (2, 3 Token -> shingle) -> broken shingle)\n",
      "(0, 3 Token\n",
      "  (0, 1 Token -> spin)\n",
      "  (1, 3 Token\n",
      "    (1, 2 Token -> broken)\n",
      "    (2, 3 Token -> shingle) -> broken shingle) -> spin broken shingle)\n",
      "candidate = (0, 3 Token\n",
      "  (0, 1 Token -> spin)\n",
      "  (1, 3 Token\n",
      "    (1, 2 Token -> broken)\n",
      "    (2, 3 Token -> shingle) -> broken shingle) -> spin broken shingle)\n",
      "candidate = (0, 3 Token\n",
      "  (0, 3 Token\n",
      "    (0, 1 Token -> spin)\n",
      "    (1, 3 Token\n",
      "      (1, 2 Token -> broken)\n",
      "      (2, 3 Token -> shingle) -> broken shingle) -> spin broken shingle)\n",
      "  (Token) -> )\n",
      "candidate = (0, 3 Anagram\n",
      "  (0, 3 Token\n",
      "    (0, 1 Token -> spin)\n",
      "    (1, 3 Token\n",
      "      (1, 2 Token -> broken)\n",
      "      (2, 3 Token -> shingle) -> broken shingle) -> spin broken shingle)\n",
      "  (AnagramIndicator) -> )\n",
      "predicting: (3, 3 AnagramIndicator (Token) -> )\n",
      "candidate = (3, 3 AnagramIndicator (Token) -> )\n",
      "candidate = (1, 3 Token\n",
      "  (1, 3 Token\n",
      "    (1, 2 Token -> broken)\n",
      "    (2, 3 Token -> shingle) -> broken shingle)\n",
      "  (Token) -> )\n",
      "candidate = (0, 2 Token\n",
      "  (0, 1 Token -> spin)\n",
      "  (1, 2 Token -> broken) -> spin broken)\n",
      "candidate = (0, 2 Token\n",
      "  (0, 2 Token\n",
      "    (0, 1 Token -> spin)\n",
      "    (1, 2 Token -> broken) -> spin broken)\n",
      "  (Token) -> )\n",
      "(0, 3 Token\n",
      "  (0, 2 Token\n",
      "    (0, 1 Token -> spin)\n",
      "    (1, 2 Token -> broken) -> spin broken)\n",
      "  (2, 3 Token -> shingle) -> spin broken shingle)\n",
      "candidate = (0, 3 Token\n",
      "  (0, 2 Token\n",
      "    (0, 1 Token -> spin)\n",
      "    (1, 2 Token -> broken) -> spin broken)\n",
      "  (2, 3 Token -> shingle) -> spin broken shingle)\n",
      "candidate = (0, 3 Token\n",
      "  (0, 3 Token\n",
      "    (0, 2 Token\n",
      "      (0, 1 Token -> spin)\n",
      "      (1, 2 Token -> broken) -> spin broken)\n",
      "    (2, 3 Token -> shingle) -> spin broken shingle)\n",
      "  (Token) -> )\n",
      "candidate = (0, 3 Anagram\n",
      "  (0, 3 Token\n",
      "    (0, 2 Token\n",
      "      (0, 1 Token -> spin)\n",
      "      (1, 2 Token -> broken) -> spin broken)\n",
      "    (2, 3 Token -> shingle) -> spin broken shingle)\n",
      "  (AnagramIndicator) -> )\n",
      "candidate = (0, 2 Anagram\n",
      "  (0, 2 Token\n",
      "    (0, 1 Token -> spin)\n",
      "    (1, 2 Token -> broken) -> spin broken)\n",
      "  (AnagramIndicator) -> )\n",
      "predicting: (2, 2 AnagramIndicator (Token) -> )\n",
      "candidate = (2, 2 AnagramIndicator (Token) -> )\n",
      "(2, 3 AnagramIndicator (2, 3 Token -> shingle) -> shingle)\n",
      "candidate = (2, 3 AnagramIndicator (2, 3 Token -> shingle) -> shingle)\n",
      "candidate = (0, 1 Anagram\n",
      "  (0, 1 Token -> spin)\n",
      "  (AnagramIndicator) -> )\n",
      "predicting: (1, 1 AnagramIndicator (Token) -> )\n",
      "candidate = (1, 1 AnagramIndicator (Token) -> )\n",
      "(1, 2 AnagramIndicator (1, 2 Token -> broken) -> broken)\n",
      "(1, 3 AnagramIndicator (1, 3 Token\n",
      "    (1, 2 Token -> broken)\n",
      "    (2, 3 Token -> shingle) -> broken shingle) -> broken shingle)\n",
      "candidate = (1, 3 AnagramIndicator (1, 3 Token\n",
      "    (1, 2 Token -> broken)\n",
      "    (2, 3 Token -> shingle) -> broken shingle) -> broken shingle)\n",
      "(0, 3 Anagram\n",
      "  (0, 1 Token -> spin)\n",
      "  (1, 3 AnagramIndicator (1, 3 Token\n",
      "      (1, 2 Token -> broken)\n",
      "      (2, 3 Token -> shingle) -> broken shingle) -> broken shingle) -> snip)\n",
      "candidate = (0, 3 Anagram\n",
      "  (0, 1 Token -> spin)\n",
      "  (1, 3 AnagramIndicator (1, 3 Token\n",
      "      (1, 2 Token -> broken)\n",
      "      (2, 3 Token -> shingle) -> broken shingle) -> broken shingle) -> snip)\n",
      "(0, 3 Wordplay (0, 3 Anagram\n",
      "    (0, 1 Token -> spin)\n",
      "    (1, 3 AnagramIndicator (1, 3 Token\n",
      "        (1, 2 Token -> broken)\n",
      "        (2, 3 Token -> shingle) -> broken shingle) -> broken shingle) -> snip) -> snip)\n",
      "candidate = (0, 3 Wordplay (0, 3 Anagram\n",
      "    (0, 1 Token -> spin)\n",
      "    (1, 3 AnagramIndicator (1, 3 Token\n",
      "        (1, 2 Token -> broken)\n",
      "        (2, 3 Token -> shingle) -> broken shingle) -> broken shingle) -> snip) -> snip)\n",
      "candidate = (0, 3 Clue\n",
      "  (0, 3 Wordplay (0, 3 Anagram\n",
      "      (0, 1 Token -> spin)\n",
      "      (1, 3 AnagramIndicator (1, 3 Token\n",
      "          (1, 2 Token -> broken)\n",
      "          (2, 3 Token -> shingle) -> broken shingle) -> broken shingle) -> snip) -> snip)\n",
      "  (Definition) -> )\n",
      "predicting: (3, 3 Definition (Token) -> )\n",
      "candidate = (3, 3 Definition (Token) -> )\n",
      "candidate = (1, 2 AnagramIndicator (1, 2 Token -> broken) -> broken)\n",
      "(0, 2 Anagram\n",
      "  (0, 1 Token -> spin)\n",
      "  (1, 2 AnagramIndicator (1, 2 Token -> broken) -> broken) -> snip)\n",
      "candidate = (0, 2 Anagram\n",
      "  (0, 1 Token -> spin)\n",
      "  (1, 2 AnagramIndicator (1, 2 Token -> broken) -> broken) -> snip)\n",
      "(0, 2 Wordplay (0, 2 Anagram\n",
      "    (0, 1 Token -> spin)\n",
      "    (1, 2 AnagramIndicator (1, 2 Token -> broken) -> broken) -> snip) -> snip)\n",
      "candidate = (0, 2 Wordplay (0, 2 Anagram\n",
      "    (0, 1 Token -> spin)\n",
      "    (1, 2 AnagramIndicator (1, 2 Token -> broken) -> broken) -> snip) -> snip)\n",
      "candidate = (0, 2 Clue\n",
      "  (0, 2 Wordplay (0, 2 Anagram\n",
      "      (0, 1 Token -> spin)\n",
      "      (1, 2 AnagramIndicator (1, 2 Token -> broken) -> broken) -> snip) -> snip)\n",
      "  (Definition) -> )\n",
      "predicting: (2, 2 Definition (Token) -> )\n",
      "candidate = (2, 2 Definition (Token) -> )\n",
      "(2, 3 Definition (2, 3 Token -> shingle) -> shingle)\n",
      "candidate = (2, 3 Definition (2, 3 Token -> shingle) -> shingle)\n",
      "(0, 3 Clue\n",
      "  (0, 2 Wordplay (0, 2 Anagram\n",
      "      (0, 1 Token -> spin)\n",
      "      (1, 2 AnagramIndicator (1, 2 Token -> broken) -> broken) -> snip) -> snip)\n",
      "  (2, 3 Definition (2, 3 Token -> shingle) -> shingle) -> snip means shingle)\n",
      "candidate = (0, 3 Clue\n",
      "  (0, 2 Wordplay (0, 2 Anagram\n",
      "      (0, 1 Token -> spin)\n",
      "      (1, 2 AnagramIndicator (1, 2 Token -> broken) -> broken) -> snip) -> snip)\n",
      "  (2, 3 Definition (2, 3 Token -> shingle) -> shingle) -> snip means shingle)\n",
      "candidate = (0, 0 Anagram\n",
      "  (AnagramIndicator)\n",
      "  (Token) -> )\n",
      "predicting: (0, 0 AnagramIndicator (Token) -> )\n",
      "candidate = (0, 0 AnagramIndicator (Token) -> )\n",
      "(0, 3 AnagramIndicator (0, 3 Token\n",
      "    (0, 2 Token\n",
      "      (0, 1 Token -> spin)\n",
      "      (1, 2 Token -> broken) -> spin broken)\n",
      "    (2, 3 Token -> shingle) -> spin broken shingle) -> spin broken shingle)\n",
      "(0, 1 AnagramIndicator (0, 1 Token -> spin) -> spin)\n",
      "(0, 3 AnagramIndicator (0, 3 Token\n",
      "    (0, 1 Token -> spin)\n",
      "    (1, 3 Token\n",
      "      (1, 2 Token -> broken)\n",
      "      (2, 3 Token -> shingle) -> broken shingle) -> spin broken shingle) -> spin broken shingle)\n",
      "(0, 2 AnagramIndicator (0, 2 Token\n",
      "    (0, 1 Token -> spin)\n",
      "    (1, 2 Token -> broken) -> spin broken) -> spin broken)\n",
      "candidate = (0, 2 AnagramIndicator (0, 2 Token\n",
      "    (0, 1 Token -> spin)\n",
      "    (1, 2 Token -> broken) -> spin broken) -> spin broken)\n",
      "candidate = (0, 2 Anagram\n",
      "  (0, 2 AnagramIndicator (0, 2 Token\n",
      "      (0, 1 Token -> spin)\n",
      "      (1, 2 Token -> broken) -> spin broken) -> spin broken)\n",
      "  (Token) -> )\n",
      "(0, 3 Anagram\n",
      "  (0, 2 AnagramIndicator (0, 2 Token\n",
      "      (0, 1 Token -> spin)\n",
      "      (1, 2 Token -> broken) -> spin broken) -> spin broken)\n",
      "  (2, 3 Token -> shingle) -> english)\n",
      "candidate = (0, 3 Anagram\n",
      "  (0, 2 AnagramIndicator (0, 2 Token\n",
      "      (0, 1 Token -> spin)\n",
      "      (1, 2 Token -> broken) -> spin broken) -> spin broken)\n",
      "  (2, 3 Token -> shingle) -> english)\n",
      "(0, 3 Wordplay (0, 3 Anagram\n",
      "    (0, 2 AnagramIndicator (0, 2 Token\n",
      "        (0, 1 Token -> spin)\n",
      "        (1, 2 Token -> broken) -> spin broken) -> spin broken)\n",
      "    (2, 3 Token -> shingle) -> english) -> english)\n",
      "candidate = (0, 3 Wordplay (0, 3 Anagram\n",
      "    (0, 2 AnagramIndicator (0, 2 Token\n",
      "        (0, 1 Token -> spin)\n",
      "        (1, 2 Token -> broken) -> spin broken) -> spin broken)\n",
      "    (2, 3 Token -> shingle) -> english) -> english)\n",
      "candidate = (0, 3 Clue\n",
      "  (0, 3 Wordplay (0, 3 Anagram\n",
      "      (0, 2 AnagramIndicator (0, 2 Token\n",
      "          (0, 1 Token -> spin)\n",
      "          (1, 2 Token -> broken) -> spin broken) -> spin broken)\n",
      "      (2, 3 Token -> shingle) -> english) -> english)\n",
      "  (Definition) -> )\n",
      "candidate = (0, 3 AnagramIndicator (0, 3 Token\n",
      "    (0, 1 Token -> spin)\n",
      "    (1, 3 Token\n",
      "      (1, 2 Token -> broken)\n",
      "      (2, 3 Token -> shingle) -> broken shingle) -> spin broken shingle) -> spin broken shingle)\n",
      "candidate = (0, 3 Anagram\n",
      "  (0, 3 AnagramIndicator (0, 3 Token\n",
      "      (0, 1 Token -> spin)\n",
      "      (1, 3 Token\n",
      "        (1, 2 Token -> broken)\n",
      "        (2, 3 Token -> shingle) -> broken shingle) -> spin broken shingle) -> spin broken shingle)\n",
      "  (Token) -> )\n",
      "candidate = (0, 1 AnagramIndicator (0, 1 Token -> spin) -> spin)\n",
      "candidate = (0, 1 Anagram\n",
      "  (0, 1 AnagramIndicator (0, 1 Token -> spin) -> spin)\n",
      "  (Token) -> )\n"
     ]
    },
    {
     "ename": "InterruptException",
     "evalue": "InterruptException:",
     "output_type": "error",
     "traceback": [
      "InterruptException:",
      "",
      "Stacktrace:",
      " [1] _growend! at ./array.jl:814 [inlined]",
      " [2] resize! at ./array.jl:1006 [inlined]",
      " [3] ensureroom at ./iobuffer.jl:313 [inlined]",
      " [4] write at ./iobuffer.jl:429 [inlined]",
      " [5] write(::Base.GenericIOBuffer{Array{UInt8,1}}, ::Char) at ./io.jl:563",
      " [6] print at ./char.jl:213 [inlined]",
      " [7] join(::Base.GenericIOBuffer{Array{UInt8,1}}, ::Array{Char,1}, ::String) at ./strings/io.jl:271",
      " [8] join(::Base.GenericIOBuffer{Array{UInt8,1}}, ::Array{Char,1}) at ./strings/io.jl:268",
      " [9] #sprint#325(::Nothing, ::Int64, ::Function, ::Function, ::Array{Char,1}) at ./strings/io.jl:101",
      " [10] sprint at ./strings/io.jl:97 [inlined]",
      " [11] join at ./strings/io.jl:275 [inlined]",
      " [12] apply(::Cryptics.Anagram, ::Tuple{Cryptics.AnagramIndicator,Cryptics.Token}, ::Tuple{String,String}) at /home/rdeits/Projects/probabilistic-parsing/Cryptics/src/grammar.jl:63",
      " [13] macro expansion at /home/rdeits/Projects/probabilistic-parsing/Cryptics/src/parsing.jl:21 [inlined]",
      " [14] _apply at /home/rdeits/Projects/probabilistic-parsing/Cryptics/src/parsing.jl:20 [inlined]",
      " [15] apply(::Pair{Cryptics.Anagram,Tuple{Cryptics.AnagramIndicator,Cryptics.Token}}, ::Array{Cryptics.Arc,1}) at /home/rdeits/Projects/probabilistic-parsing/Cryptics/src/parsing.jl:27",
      " [16] combinations(::Cryptics.Arc, ::Cryptics.Arc) at /home/rdeits/Projects/probabilistic-parsing/Cryptics/src/parsing.jl:77",
      " [17] update!(::Chart, ::Array{Cryptics.Arc,1}, ::Cryptics.Arc, ::Grammar, ::Cryptics.TopDown) at /home/rdeits/Projects/probabilistic-parsing/Cryptics/src/parsing.jl:249",
      " [18] macro expansion at ./show.jl:555 [inlined]",
      " [19] parse(::Array{SubString{String},1}, ::Grammar, ::Cryptics.TopDown) at /home/rdeits/Projects/probabilistic-parsing/Cryptics/src/parsing.jl:238",
      " [20] top-level scope at In[14]:5"
     ]
    }
   ],
   "source": [
    "clue = \"spin broken shingle\"\n",
    "rules = Cryptics.cryptics_rules()\n",
    "grammar = Cryptics.Grammar(rules)\n",
    "tokens = split(clue)\n",
    "chart = Cryptics.parse(tokens, grammar, Cryptics.TopDown());"
   ]
  },
  {
   "cell_type": "code",
   "execution_count": 13,
   "metadata": {},
   "outputs": [
    {
     "name": "stdout",
     "output_type": "stream",
     "text": [
      "length(Cryptics.complete_parses(chart)) = 2\n"
     ]
    },
    {
     "data": {
      "text/plain": [
       "Set(Cryptics.Arc[(0, 3 Clue\n",
       "  (0, 2 Wordplay (0, 2 Anagram\n",
       "      (0, 1 Token -> spin)\n",
       "      (1, 2 AnagramIndicator (1, 2 Token -> broken) -> broken) -> snip) -> snip)\n",
       "  (2, 3 Definition (2, 3 Token -> shingle) -> shingle) -> snip means shingle), (0, 3 Clue\n",
       "  (0, 1 Definition (0, 1 Token -> spin) -> spin)\n",
       "  (1, 3 Wordplay (1, 3 Anagram\n",
       "      (1, 2 AnagramIndicator (1, 2 Token -> broken) -> broken)\n",
       "      (2, 3 Token -> shingle) -> english) -> english) -> english means spin)])"
      ]
     },
     "execution_count": 13,
     "metadata": {},
     "output_type": "execute_result"
    }
   ],
   "source": [
    "@show length(Cryptics.complete_parses(chart))\n",
    "\n",
    "Cryptics.complete_parses(chart)"
   ]
  },
  {
   "cell_type": "code",
   "execution_count": 18,
   "metadata": {},
   "outputs": [
    {
     "data": {
      "text/plain": [
       "0-element Array{String,1}"
      ]
     },
     "execution_count": 18,
     "metadata": {},
     "output_type": "execute_result"
    }
   ],
   "source": [
    "[w.output for w in Cryptics.complete_parses(chart) if occursin(\"insertions of\", w.output)]"
   ]
  },
  {
   "cell_type": "code",
   "execution_count": 2,
   "metadata": {},
   "outputs": [],
   "source": [
    "using BenchmarkTools\n",
    "using Test"
   ]
  }
 ],
 "metadata": {
  "@webio": {
   "lastCommId": "f6e69bd926714f7099a8b8b0ccbb498e",
   "lastKernelId": "9f9fd8ff-dc41-4538-a803-cce6dfd87353"
  },
  "kernelspec": {
   "display_name": "Julia 1.0.2",
   "language": "julia",
   "name": "julia-1.0"
  },
  "language_info": {
   "file_extension": ".jl",
   "mimetype": "application/julia",
   "name": "julia",
   "version": "1.0.2"
  }
 },
 "nbformat": 4,
 "nbformat_minor": 2
}
