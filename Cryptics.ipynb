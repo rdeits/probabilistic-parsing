{
 "cells": [
  {
   "cell_type": "code",
   "execution_count": 18,
   "metadata": {},
   "outputs": [],
   "source": [
    "using Pkg\n",
    "pkg\"activate .\""
   ]
  },
  {
   "cell_type": "code",
   "execution_count": 19,
   "metadata": {},
   "outputs": [],
   "source": [
    "using BenchmarkTools\n",
    "using Test"
   ]
  },
  {
   "cell_type": "code",
   "execution_count": 20,
   "metadata": {},
   "outputs": [],
   "source": [
    "using Cryptics"
   ]
  },
  {
   "cell_type": "code",
   "execution_count": 21,
   "metadata": {},
   "outputs": [
    {
     "data": {
      "text/plain": [
       "(AnagramIndicator (Token) -> String[])"
      ]
     },
     "execution_count": 21,
     "metadata": {},
     "output_type": "execute_result"
    }
   ],
   "source": [
    "a1 = Cryptics.Arc(0, 1, Cryptics.AnagramIndicator() => (Cryptics.Token(),), [], [])"
   ]
  },
  {
   "cell_type": "code",
   "execution_count": 22,
   "metadata": {},
   "outputs": [
    {
     "data": {
      "text/plain": [
       "(Token -> [\"broken\"])"
      ]
     },
     "execution_count": 22,
     "metadata": {},
     "output_type": "execute_result"
    }
   ],
   "source": [
    "a2 = Cryptics.Arc(0, 1, Cryptics.Token() => (), [], [\"broken\"])"
   ]
  },
  {
   "cell_type": "code",
   "execution_count": 23,
   "metadata": {},
   "outputs": [
    {
     "data": {
      "text/plain": [
       "(AnagramIndicator (Token -> [\"broken\"]) -> [\"broken\"])"
      ]
     },
     "execution_count": 23,
     "metadata": {},
     "output_type": "execute_result"
    }
   ],
   "source": [
    "a1 + a2"
   ]
  },
  {
   "cell_type": "code",
   "execution_count": 24,
   "metadata": {
    "scrolled": true
   },
   "outputs": [
    {
     "data": {
      "text/plain": [
       "Chart(3, Dict{Cryptics.GrammaticalSymbol,Array{Set{Cryptics.Arc},1}}(Wordplay()=>[Set([(Clue\n",
       "  (Wordplay)\n",
       "  (Definition) -> String[])]), Set([(Clue\n",
       "  (Wordplay)\n",
       "  (Definition) -> String[]), (Clue\n",
       "  (Definition (Token -> [\"spin\"]) -> [\"spin\"])\n",
       "  (Wordplay) -> String[])]), Set([(Clue\n",
       "  (Definition (Token -> [\"broken\"]) -> [\"broken\"])\n",
       "  (Wordplay) -> String[])]), Set([(Clue\n",
       "  (Definition (Token -> [\"shingle\"]) -> [\"shingle\"])\n",
       "  (Wordplay) -> String[])])],Token()=>[Set([(AnagramIndicator (Token) -> String[]), (Definition (Token) -> String[]), (Anagram\n",
       "  (Token)\n",
       "  (AnagramIndicator) -> String[])]), Set([(Anagram\n",
       "  (Token)\n",
       "  (AnagramIndicator) -> String[]), (Anagram\n",
       "  (AnagramIndicator (Token -> [\"spin\"]) -> [\"spin\"])\n",
       "  (Token) -> String[]), (AnagramIndicator (Token) -> String[]), (Definition (Token) -> String[])]), Set([(Anagram\n",
       "  (AnagramIndicator (Token -> [\"broken\"]) -> [\"broken\"])\n",
       "  (Token) -> String[]), (AnagramIndicator (Token) -> String[]), (Definition (Token) -> String[]), (Anagram\n",
       "  (Token)\n",
       "  (AnagramIndicator) -> String[])]), Set([(Anagram\n",
       "  (AnagramIndicator (Token -> [\"shingle\"]) -> [\"shingle\"])\n",
       "  (Token) -> String[])])],AnagramIndicator()=>[Set([(Anagram\n",
       "  (AnagramIndicator)\n",
       "  (Token) -> String[])]), Set([(Anagram\n",
       "  (Token -> [\"spin\"])\n",
       "  (AnagramIndicator) -> String[]), (Anagram\n",
       "  (AnagramIndicator)\n",
       "  (Token) -> String[])]), Set([(Anagram\n",
       "  (Token -> [\"broken\"])\n",
       "  (AnagramIndicator) -> String[]), (Anagram\n",
       "  (AnagramIndicator)\n",
       "  (Token) -> String[])]), Set([(Anagram\n",
       "  (Token -> [\"shingle\"])\n",
       "  (AnagramIndicator) -> String[])])],Anagram()=>[Set([(Wordplay (Anagram) -> String[])]), Set([(Wordplay (Anagram) -> String[])]), Set([]), Set([])],Definition()=>[Set([(Clue\n",
       "  (Definition)\n",
       "  (Wordplay) -> String[])]), Set([(Clue\n",
       "  (Definition)\n",
       "  (Wordplay) -> String[])]), Set([(Clue\n",
       "  (Definition)\n",
       "  (Wordplay) -> String[]), (Clue\n",
       "  (Wordplay (Anagram\n",
       "      (AnagramIndicator (Token -> [\"spin\"]) -> [\"spin\"])\n",
       "      (Token -> [\"broken\"]) -> [\"brokne\", \"broekn\", \"broenk\", \"bronke\", \"bronek\", \"brkoen\", \"brkone\", \"brkeon\", \"brkeno\", \"brknoe\"  …  \"neorbk\", \"neorkb\", \"neokbr\", \"neokrb\", \"nekbro\", \"nekbor\", \"nekrbo\", \"nekrob\", \"nekobr\", \"nekorb\"]) -> [\"brokne\", \"broekn\", \"broenk\", \"bronke\", \"bronek\", \"brkoen\", \"brkone\", \"brkeon\", \"brkeno\", \"brknoe\"  …  \"neorbk\", \"neorkb\", \"neokbr\", \"neokrb\", \"nekbro\", \"nekbor\", \"nekrbo\", \"nekrob\", \"nekobr\", \"nekorb\"])\n",
       "  (Definition) -> String[]), (Clue\n",
       "  (Wordplay (Anagram\n",
       "      (Token -> [\"spin\"])\n",
       "      (AnagramIndicator (Token -> [\"broken\"]) -> [\"broken\"]) -> [\"spni\", \"sipn\", \"sinp\", \"snpi\", \"snip\", \"psin\", \"psni\", \"pisn\", \"pins\", \"pnsi\"  …  \"ipsn\", \"ipns\", \"insp\", \"inps\", \"nspi\", \"nsip\", \"npsi\", \"npis\", \"nisp\", \"nips\"]) -> [\"spni\", \"sipn\", \"sinp\", \"snpi\", \"snip\", \"psin\", \"psni\", \"pisn\", \"pins\", \"pnsi\"  …  \"ipsn\", \"ipns\", \"insp\", \"inps\", \"nspi\", \"nsip\", \"npsi\", \"npis\", \"nisp\", \"nips\"])\n",
       "  (Definition) -> String[])]), Set([(Clue\n",
       "  (Wordplay (Anagram\n",
       "      (Token -> [\"broken\"])\n",
       "      (AnagramIndicator (Token -> [\"shingle\"]) -> [\"shingle\"]) -> [\"brokne\", \"broekn\", \"broenk\", \"bronke\", \"bronek\", \"brkoen\", \"brkone\", \"brkeon\", \"brkeno\", \"brknoe\"  …  \"neorbk\", \"neorkb\", \"neokbr\", \"neokrb\", \"nekbro\", \"nekbor\", \"nekrbo\", \"nekrob\", \"nekobr\", \"nekorb\"]) -> [\"brokne\", \"broekn\", \"broenk\", \"bronke\", \"bronek\", \"brkoen\", \"brkone\", \"brkeon\", \"brkeno\", \"brknoe\"  …  \"neorbk\", \"neorkb\", \"neokbr\", \"neokrb\", \"nekbro\", \"nekbor\", \"nekrbo\", \"nekrob\", \"nekobr\", \"nekorb\"])\n",
       "  (Definition) -> String[]), (Clue\n",
       "  (Wordplay (Anagram\n",
       "      (AnagramIndicator (Token -> [\"broken\"]) -> [\"broken\"])\n",
       "      (Token -> [\"shingle\"]) -> [\"shingel\", \"shinlge\", \"shinleg\", \"shinegl\", \"shinelg\", \"shignle\", \"shignel\", \"shiglne\", \"shiglen\", \"shigenl\"  …  \"elgihsn\", \"elgihns\", \"elginsh\", \"elginhs\", \"elgnshi\", \"elgnsih\", \"elgnhsi\", \"elgnhis\", \"elgnish\", \"elgnihs\"]) -> [\"shingel\", \"shinlge\", \"shinleg\", \"shinegl\", \"shinelg\", \"shignle\", \"shignel\", \"shiglne\", \"shiglen\", \"shigenl\"  …  \"elgihsn\", \"elgihns\", \"elginsh\", \"elginhs\", \"elgnshi\", \"elgnsih\", \"elgnhsi\", \"elgnhis\", \"elgnish\", \"elgnihs\"])\n",
       "  (Definition) -> String[])])],Clue()=>[Set([]), Set([]), Set([]), Set([])]), Dict{Cryptics.GrammaticalSymbol,Array{Set{Cryptics.Arc},1}}(Wordplay()=>[Set([(Wordplay (Anagram\n",
       "    (AnagramIndicator (Token -> [\"spin\"]) -> [\"spin\"])\n",
       "    (Token -> [\"broken\"]) -> [\"brokne\", \"broekn\", \"broenk\", \"bronke\", \"bronek\", \"brkoen\", \"brkone\", \"brkeon\", \"brkeno\", \"brknoe\"  …  \"neorbk\", \"neorkb\", \"neokbr\", \"neokrb\", \"nekbro\", \"nekbor\", \"nekrbo\", \"nekrob\", \"nekobr\", \"nekorb\"]) -> [\"brokne\", \"broekn\", \"broenk\", \"bronke\", \"bronek\", \"brkoen\", \"brkone\", \"brkeon\", \"brkeno\", \"brknoe\"  …  \"neorbk\", \"neorkb\", \"neokbr\", \"neokrb\", \"nekbro\", \"nekbor\", \"nekrbo\", \"nekrob\", \"nekobr\", \"nekorb\"]), (Wordplay (Anagram\n",
       "    (Token -> [\"spin\"])\n",
       "    (AnagramIndicator (Token -> [\"broken\"]) -> [\"broken\"]) -> [\"spni\", \"sipn\", \"sinp\", \"snpi\", \"snip\", \"psin\", \"psni\", \"pisn\", \"pins\", \"pnsi\"  …  \"ipsn\", \"ipns\", \"insp\", \"inps\", \"nspi\", \"nsip\", \"npsi\", \"npis\", \"nisp\", \"nips\"]) -> [\"spni\", \"sipn\", \"sinp\", \"snpi\", \"snip\", \"psin\", \"psni\", \"pisn\", \"pins\", \"pnsi\"  …  \"ipsn\", \"ipns\", \"insp\", \"inps\", \"nspi\", \"nsip\", \"npsi\", \"npis\", \"nisp\", \"nips\"])]), Set([(Wordplay (Anagram\n",
       "    (AnagramIndicator (Token -> [\"broken\"]) -> [\"broken\"])\n",
       "    (Token -> [\"shingle\"]) -> [\"shingel\", \"shinlge\", \"shinleg\", \"shinegl\", \"shinelg\", \"shignle\", \"shignel\", \"shiglne\", \"shiglen\", \"shigenl\"  …  \"elgihsn\", \"elgihns\", \"elginsh\", \"elginhs\", \"elgnshi\", \"elgnsih\", \"elgnhsi\", \"elgnhis\", \"elgnish\", \"elgnihs\"]) -> [\"shingel\", \"shinlge\", \"shinleg\", \"shinegl\", \"shinelg\", \"shignle\", \"shignel\", \"shiglne\", \"shiglen\", \"shigenl\"  …  \"elgihsn\", \"elgihns\", \"elginsh\", \"elginhs\", \"elgnshi\", \"elgnsih\", \"elgnhsi\", \"elgnhis\", \"elgnish\", \"elgnihs\"]), (Wordplay (Anagram\n",
       "    (Token -> [\"broken\"])\n",
       "    (AnagramIndicator (Token -> [\"shingle\"]) -> [\"shingle\"]) -> [\"brokne\", \"broekn\", \"broenk\", \"bronke\", \"bronek\", \"brkoen\", \"brkone\", \"brkeon\", \"brkeno\", \"brknoe\"  …  \"neorbk\", \"neorkb\", \"neokbr\", \"neokrb\", \"nekbro\", \"nekbor\", \"nekrbo\", \"nekrob\", \"nekobr\", \"nekorb\"]) -> [\"brokne\", \"broekn\", \"broenk\", \"bronke\", \"bronek\", \"brkoen\", \"brkone\", \"brkeon\", \"brkeno\", \"brknoe\"  …  \"neorbk\", \"neorkb\", \"neokbr\", \"neokrb\", \"nekbro\", \"nekbor\", \"nekrbo\", \"nekrob\", \"nekobr\", \"nekorb\"])]), Set([]), Set([])],Token()=>[Set([(Token -> [\"spin\"])]), Set([(Token -> [\"broken\"])]), Set([(Token -> [\"shingle\"])]), Set([])],AnagramIndicator()=>[Set([(AnagramIndicator (Token -> [\"spin\"]) -> [\"spin\"])]), Set([(AnagramIndicator (Token -> [\"broken\"]) -> [\"broken\"])]), Set([(AnagramIndicator (Token -> [\"shingle\"]) -> [\"shingle\"])]), Set([])],Anagram()=>[Set([(Anagram\n",
       "  (Token -> [\"spin\"])\n",
       "  (AnagramIndicator (Token -> [\"broken\"]) -> [\"broken\"]) -> [\"spni\", \"sipn\", \"sinp\", \"snpi\", \"snip\", \"psin\", \"psni\", \"pisn\", \"pins\", \"pnsi\"  …  \"ipsn\", \"ipns\", \"insp\", \"inps\", \"nspi\", \"nsip\", \"npsi\", \"npis\", \"nisp\", \"nips\"]), (Anagram\n",
       "  (AnagramIndicator (Token -> [\"spin\"]) -> [\"spin\"])\n",
       "  (Token -> [\"broken\"]) -> [\"brokne\", \"broekn\", \"broenk\", \"bronke\", \"bronek\", \"brkoen\", \"brkone\", \"brkeon\", \"brkeno\", \"brknoe\"  …  \"neorbk\", \"neorkb\", \"neokbr\", \"neokrb\", \"nekbro\", \"nekbor\", \"nekrbo\", \"nekrob\", \"nekobr\", \"nekorb\"])]), Set([(Anagram\n",
       "  (Token -> [\"broken\"])\n",
       "  (AnagramIndicator (Token -> [\"shingle\"]) -> [\"shingle\"]) -> [\"brokne\", \"broekn\", \"broenk\", \"bronke\", \"bronek\", \"brkoen\", \"brkone\", \"brkeon\", \"brkeno\", \"brknoe\"  …  \"neorbk\", \"neorkb\", \"neokbr\", \"neokrb\", \"nekbro\", \"nekbor\", \"nekrbo\", \"nekrob\", \"nekobr\", \"nekorb\"]), (Anagram\n",
       "  (AnagramIndicator (Token -> [\"broken\"]) -> [\"broken\"])\n",
       "  (Token -> [\"shingle\"]) -> [\"shingel\", \"shinlge\", \"shinleg\", \"shinegl\", \"shinelg\", \"shignle\", \"shignel\", \"shiglne\", \"shiglen\", \"shigenl\"  …  \"elgihsn\", \"elgihns\", \"elginsh\", \"elginhs\", \"elgnshi\", \"elgnsih\", \"elgnhsi\", \"elgnhis\", \"elgnish\", \"elgnihs\"])]), Set([]), Set([])],Definition()=>[Set([(Definition (Token -> [\"spin\"]) -> [\"spin\"])]), Set([(Definition (Token -> [\"broken\"]) -> [\"broken\"])]), Set([(Definition (Token -> [\"shingle\"]) -> [\"shingle\"])]), Set([])],Clue()=>[Set([(Clue\n",
       "  (Definition (Token -> [\"spin\"]) -> [\"spin\"])\n",
       "  (Wordplay (Anagram\n",
       "      (Token -> [\"broken\"])\n",
       "      (AnagramIndicator (Token -> [\"shingle\"]) -> [\"shingle\"]) -> [\"brokne\", \"broekn\", \"broenk\", \"bronke\", \"bronek\", \"brkoen\", \"brkone\", \"brkeon\", \"brkeno\", \"brknoe\"  …  \"neorbk\", \"neorkb\", \"neokbr\", \"neokrb\", \"nekbro\", \"nekbor\", \"nekrbo\", \"nekrob\", \"nekobr\", \"nekorb\"]) -> [\"brokne\", \"broekn\", \"broenk\", \"bronke\", \"bronek\", \"brkoen\", \"brkone\", \"brkeon\", \"brkeno\", \"brknoe\"  …  \"neorbk\", \"neorkb\", \"neokbr\", \"neokrb\", \"nekbro\", \"nekbor\", \"nekrbo\", \"nekrob\", \"nekobr\", \"nekorb\"]) -> [\"brokne means spin\", \"broekn means spin\", \"broenk means spin\", \"bronke means spin\", \"bronek means spin\", \"brkoen means spin\", \"brkone means spin\", \"brkeon means spin\", \"brkeno means spin\", \"brknoe means spin\"  …  \"neorbk means spin\", \"neorkb means spin\", \"neokbr means spin\", \"neokrb means spin\", \"nekbro means spin\", \"nekbor means spin\", \"nekrbo means spin\", \"nekrob means spin\", \"nekobr means spin\", \"nekorb means spin\"]), (Clue\n",
       "  (Wordplay (Anagram\n",
       "      (AnagramIndicator (Token -> [\"spin\"]) -> [\"spin\"])\n",
       "      (Token -> [\"broken\"]) -> [\"brokne\", \"broekn\", \"broenk\", \"bronke\", \"bronek\", \"brkoen\", \"brkone\", \"brkeon\", \"brkeno\", \"brknoe\"  …  \"neorbk\", \"neorkb\", \"neokbr\", \"neokrb\", \"nekbro\", \"nekbor\", \"nekrbo\", \"nekrob\", \"nekobr\", \"nekorb\"]) -> [\"brokne\", \"broekn\", \"broenk\", \"bronke\", \"bronek\", \"brkoen\", \"brkone\", \"brkeon\", \"brkeno\", \"brknoe\"  …  \"neorbk\", \"neorkb\", \"neokbr\", \"neokrb\", \"nekbro\", \"nekbor\", \"nekrbo\", \"nekrob\", \"nekobr\", \"nekorb\"])\n",
       "  (Definition (Token -> [\"shingle\"]) -> [\"shingle\"]) -> [\"brokne means shingle\", \"broekn means shingle\", \"broenk means shingle\", \"bronke means shingle\", \"bronek means shingle\", \"brkoen means shingle\", \"brkone means shingle\", \"brkeon means shingle\", \"brkeno means shingle\", \"brknoe means shingle\"  …  \"neorbk means shingle\", \"neorkb means shingle\", \"neokbr means shingle\", \"neokrb means shingle\", \"nekbro means shingle\", \"nekbor means shingle\", \"nekrbo means shingle\", \"nekrob means shingle\", \"nekobr means shingle\", \"nekorb means shingle\"]), (Clue\n",
       "  (Wordplay (Anagram\n",
       "      (Token -> [\"spin\"])\n",
       "      (AnagramIndicator (Token -> [\"broken\"]) -> [\"broken\"]) -> [\"spni\", \"sipn\", \"sinp\", \"snpi\", \"snip\", \"psin\", \"psni\", \"pisn\", \"pins\", \"pnsi\"  …  \"ipsn\", \"ipns\", \"insp\", \"inps\", \"nspi\", \"nsip\", \"npsi\", \"npis\", \"nisp\", \"nips\"]) -> [\"spni\", \"sipn\", \"sinp\", \"snpi\", \"snip\", \"psin\", \"psni\", \"pisn\", \"pins\", \"pnsi\"  …  \"ipsn\", \"ipns\", \"insp\", \"inps\", \"nspi\", \"nsip\", \"npsi\", \"npis\", \"nisp\", \"nips\"])\n",
       "  (Definition (Token -> [\"shingle\"]) -> [\"shingle\"]) -> [\"spni means shingle\", \"sipn means shingle\", \"sinp means shingle\", \"snpi means shingle\", \"snip means shingle\", \"psin means shingle\", \"psni means shingle\", \"pisn means shingle\", \"pins means shingle\", \"pnsi means shingle\"  …  \"ipsn means shingle\", \"ipns means shingle\", \"insp means shingle\", \"inps means shingle\", \"nspi means shingle\", \"nsip means shingle\", \"npsi means shingle\", \"npis means shingle\", \"nisp means shingle\", \"nips means shingle\"]), (Clue\n",
       "  (Definition (Token -> [\"spin\"]) -> [\"spin\"])\n",
       "  (Wordplay (Anagram\n",
       "      (AnagramIndicator (Token -> [\"broken\"]) -> [\"broken\"])\n",
       "      (Token -> [\"shingle\"]) -> [\"shingel\", \"shinlge\", \"shinleg\", \"shinegl\", \"shinelg\", \"shignle\", \"shignel\", \"shiglne\", \"shiglen\", \"shigenl\"  …  \"elgihsn\", \"elgihns\", \"elginsh\", \"elginhs\", \"elgnshi\", \"elgnsih\", \"elgnhsi\", \"elgnhis\", \"elgnish\", \"elgnihs\"]) -> [\"shingel\", \"shinlge\", \"shinleg\", \"shinegl\", \"shinelg\", \"shignle\", \"shignel\", \"shiglne\", \"shiglen\", \"shigenl\"  …  \"elgihsn\", \"elgihns\", \"elginsh\", \"elginhs\", \"elgnshi\", \"elgnsih\", \"elgnhsi\", \"elgnhis\", \"elgnish\", \"elgnihs\"]) -> [\"shingel means spin\", \"shinlge means spin\", \"shinleg means spin\", \"shinegl means spin\", \"shinelg means spin\", \"shignle means spin\", \"shignel means spin\", \"shiglne means spin\", \"shiglen means spin\", \"shigenl means spin\"  …  \"elgihsn means spin\", \"elgihns means spin\", \"elginsh means spin\", \"elginhs means spin\", \"elgnshi means spin\", \"elgnsih means spin\", \"elgnhsi means spin\", \"elgnhis means spin\", \"elgnish means spin\", \"elgnihs means spin\"])]), Set([]), Set([]), Set([])]))"
      ]
     },
     "execution_count": 24,
     "metadata": {},
     "output_type": "execute_result"
    }
   ],
   "source": [
    "clue = \"spin broken shingle\"\n",
    "rules = Cryptics.cryptics_rules()\n",
    "grammar = Cryptics.Grammar(rules)\n",
    "tokens = split(clue)\n",
    "chart = Cryptics.parse(tokens, grammar)"
   ]
  },
  {
   "cell_type": "code",
   "execution_count": 25,
   "metadata": {},
   "outputs": [
    {
     "data": {
      "text/plain": [
       "Set(Cryptics.Arc[(Clue\n",
       "  (Definition (Token -> [\"spin\"]) -> [\"spin\"])\n",
       "  (Wordplay (Anagram\n",
       "      (Token -> [\"broken\"])\n",
       "      (AnagramIndicator (Token -> [\"shingle\"]) -> [\"shingle\"]) -> [\"brokne\", \"broekn\", \"broenk\", \"bronke\", \"bronek\", \"brkoen\", \"brkone\", \"brkeon\", \"brkeno\", \"brknoe\"  …  \"neorbk\", \"neorkb\", \"neokbr\", \"neokrb\", \"nekbro\", \"nekbor\", \"nekrbo\", \"nekrob\", \"nekobr\", \"nekorb\"]) -> [\"brokne\", \"broekn\", \"broenk\", \"bronke\", \"bronek\", \"brkoen\", \"brkone\", \"brkeon\", \"brkeno\", \"brknoe\"  …  \"neorbk\", \"neorkb\", \"neokbr\", \"neokrb\", \"nekbro\", \"nekbor\", \"nekrbo\", \"nekrob\", \"nekobr\", \"nekorb\"]) -> [\"brokne means spin\", \"broekn means spin\", \"broenk means spin\", \"bronke means spin\", \"bronek means spin\", \"brkoen means spin\", \"brkone means spin\", \"brkeon means spin\", \"brkeno means spin\", \"brknoe means spin\"  …  \"neorbk means spin\", \"neorkb means spin\", \"neokbr means spin\", \"neokrb means spin\", \"nekbro means spin\", \"nekbor means spin\", \"nekrbo means spin\", \"nekrob means spin\", \"nekobr means spin\", \"nekorb means spin\"]), (Clue\n",
       "  (Wordplay (Anagram\n",
       "      (AnagramIndicator (Token -> [\"spin\"]) -> [\"spin\"])\n",
       "      (Token -> [\"broken\"]) -> [\"brokne\", \"broekn\", \"broenk\", \"bronke\", \"bronek\", \"brkoen\", \"brkone\", \"brkeon\", \"brkeno\", \"brknoe\"  …  \"neorbk\", \"neorkb\", \"neokbr\", \"neokrb\", \"nekbro\", \"nekbor\", \"nekrbo\", \"nekrob\", \"nekobr\", \"nekorb\"]) -> [\"brokne\", \"broekn\", \"broenk\", \"bronke\", \"bronek\", \"brkoen\", \"brkone\", \"brkeon\", \"brkeno\", \"brknoe\"  …  \"neorbk\", \"neorkb\", \"neokbr\", \"neokrb\", \"nekbro\", \"nekbor\", \"nekrbo\", \"nekrob\", \"nekobr\", \"nekorb\"])\n",
       "  (Definition (Token -> [\"shingle\"]) -> [\"shingle\"]) -> [\"brokne means shingle\", \"broekn means shingle\", \"broenk means shingle\", \"bronke means shingle\", \"bronek means shingle\", \"brkoen means shingle\", \"brkone means shingle\", \"brkeon means shingle\", \"brkeno means shingle\", \"brknoe means shingle\"  …  \"neorbk means shingle\", \"neorkb means shingle\", \"neokbr means shingle\", \"neokrb means shingle\", \"nekbro means shingle\", \"nekbor means shingle\", \"nekrbo means shingle\", \"nekrob means shingle\", \"nekobr means shingle\", \"nekorb means shingle\"]), (Clue\n",
       "  (Wordplay (Anagram\n",
       "      (Token -> [\"spin\"])\n",
       "      (AnagramIndicator (Token -> [\"broken\"]) -> [\"broken\"]) -> [\"spni\", \"sipn\", \"sinp\", \"snpi\", \"snip\", \"psin\", \"psni\", \"pisn\", \"pins\", \"pnsi\"  …  \"ipsn\", \"ipns\", \"insp\", \"inps\", \"nspi\", \"nsip\", \"npsi\", \"npis\", \"nisp\", \"nips\"]) -> [\"spni\", \"sipn\", \"sinp\", \"snpi\", \"snip\", \"psin\", \"psni\", \"pisn\", \"pins\", \"pnsi\"  …  \"ipsn\", \"ipns\", \"insp\", \"inps\", \"nspi\", \"nsip\", \"npsi\", \"npis\", \"nisp\", \"nips\"])\n",
       "  (Definition (Token -> [\"shingle\"]) -> [\"shingle\"]) -> [\"spni means shingle\", \"sipn means shingle\", \"sinp means shingle\", \"snpi means shingle\", \"snip means shingle\", \"psin means shingle\", \"psni means shingle\", \"pisn means shingle\", \"pins means shingle\", \"pnsi means shingle\"  …  \"ipsn means shingle\", \"ipns means shingle\", \"insp means shingle\", \"inps means shingle\", \"nspi means shingle\", \"nsip means shingle\", \"npsi means shingle\", \"npis means shingle\", \"nisp means shingle\", \"nips means shingle\"]), (Clue\n",
       "  (Definition (Token -> [\"spin\"]) -> [\"spin\"])\n",
       "  (Wordplay (Anagram\n",
       "      (AnagramIndicator (Token -> [\"broken\"]) -> [\"broken\"])\n",
       "      (Token -> [\"shingle\"]) -> [\"shingel\", \"shinlge\", \"shinleg\", \"shinegl\", \"shinelg\", \"shignle\", \"shignel\", \"shiglne\", \"shiglen\", \"shigenl\"  …  \"elgihsn\", \"elgihns\", \"elginsh\", \"elginhs\", \"elgnshi\", \"elgnsih\", \"elgnhsi\", \"elgnhis\", \"elgnish\", \"elgnihs\"]) -> [\"shingel\", \"shinlge\", \"shinleg\", \"shinegl\", \"shinelg\", \"shignle\", \"shignel\", \"shiglne\", \"shiglen\", \"shigenl\"  …  \"elgihsn\", \"elgihns\", \"elginsh\", \"elginhs\", \"elgnshi\", \"elgnsih\", \"elgnhsi\", \"elgnhis\", \"elgnish\", \"elgnihs\"]) -> [\"shingel means spin\", \"shinlge means spin\", \"shinleg means spin\", \"shinegl means spin\", \"shinelg means spin\", \"shignle means spin\", \"shignel means spin\", \"shiglne means spin\", \"shiglen means spin\", \"shigenl means spin\"  …  \"elgihsn means spin\", \"elgihns means spin\", \"elginsh means spin\", \"elginhs means spin\", \"elgnshi means spin\", \"elgnsih means spin\", \"elgnhsi means spin\", \"elgnhis means spin\", \"elgnish means spin\", \"elgnihs means spin\"])])"
      ]
     },
     "execution_count": 25,
     "metadata": {},
     "output_type": "execute_result"
    }
   ],
   "source": [
    "Cryptics.complete_parses(chart)"
   ]
  },
  {
   "cell_type": "code",
   "execution_count": null,
   "metadata": {},
   "outputs": [],
   "source": []
  }
 ],
 "metadata": {
  "@webio": {
   "lastCommId": "e93eb9b5231c4c55821e4bc3da040c6e",
   "lastKernelId": "f1acea94-c903-418b-852b-7e28b9edd37f"
  },
  "kernelspec": {
   "display_name": "Julia 1.0.2",
   "language": "julia",
   "name": "julia-1.0"
  },
  "language_info": {
   "file_extension": ".jl",
   "mimetype": "application/julia",
   "name": "julia",
   "version": "1.0.2"
  }
 },
 "nbformat": 4,
 "nbformat_minor": 2
}
