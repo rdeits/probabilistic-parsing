{
 "cells": [
  {
   "cell_type": "code",
   "execution_count": 1,
   "metadata": {},
   "outputs": [],
   "source": [
    "using Pkg\n",
    "pkg\"activate .\""
   ]
  },
  {
   "cell_type": "code",
   "execution_count": 154,
   "metadata": {},
   "outputs": [],
   "source": [
    "using Test\n",
    "using BenchmarkTools"
   ]
  },
  {
   "cell_type": "markdown",
   "metadata": {},
   "source": [
    "The chart consists of a list of arcs, some of which are completed. Each arc is an edge from one point in the sentence to another, labeled by the production rule it corresponds to. \n",
    "\n",
    "This isn't mentioned in the presentations I've read so far, but I assume that each edge also should contain a pointer to the edges that were found when constructing it, in order to be able to recover the full parse later. \n",
    "\n",
    "In the cryptics problem, there's an additional complication: a given production rule can produce many outputs, and we need to keep track of each of them. One way to do that would be to create multiple edges, each labled not only with the production rule but also the resulting output word. That seems like a natural approach when we combine this with some probabilistic notion, as the quality of the output word will likely influence the probability of the resulting parse. \n",
    "\n"
   ]
  },
  {
   "cell_type": "code",
   "execution_count": 2,
   "metadata": {},
   "outputs": [
    {
     "data": {
      "text/plain": [
       "Main.Charts"
      ]
     },
     "execution_count": 2,
     "metadata": {},
     "output_type": "execute_result"
    }
   ],
   "source": [
    "module Charts\n",
    "\n",
    "struct Edge\n",
    "    head::Symbol\n",
    "    arguments::Vector{Edge}\n",
    "    output::String\n",
    "end\n",
    "\n",
    "end\n"
   ]
  },
  {
   "cell_type": "markdown",
   "metadata": {},
   "source": [
    "We can either store the endpoints of each edge in the Edge type itself, or we could store the edges based on their endpoints (for example, as a matrix of vectors of edges). I don't think edges need to be mutated, so we wouldn't have to move edges from one list to another, only add new ones. So either representation could be efficient. \n",
    "\n",
    "What are the operations we need to do?\n",
    "\n",
    "I think that maybe I should implement a very basic chart parser first, without worrying about output words, in order to get a sense of how this stuff works. \n"
   ]
  },
  {
   "cell_type": "code",
   "execution_count": 3,
   "metadata": {},
   "outputs": [
    {
     "name": "stderr",
     "output_type": "stream",
     "text": [
      "WARNING: replacing module Charts.\n"
     ]
    },
    {
     "data": {
      "text/plain": [
       "Main.Charts"
      ]
     },
     "execution_count": 3,
     "metadata": {},
     "output_type": "execute_result"
    }
   ],
   "source": [
    "module Charts\n",
    "\n",
    "struct Edge\n",
    "    head::Symbol\n",
    "    components::Vector{Symbol}\n",
    "    completed::Int\n",
    "    span::Pair{Int}\n",
    "end\n",
    "\n",
    "# In the fundamental rule, we need to look up completed arcs\n",
    "# by their first span index and their head type\n",
    "# In the bottom-up rule, we look through completed arcs to \n",
    "# try to match them with rules in the grammar. \n",
    "\n",
    "struct Chart\n",
    "    active_arcs::Vector{Edge}\n",
    "    agenda::Vector{Edge}\n",
    "    inactive_arcs::Matrix{Vector{Edge}}\n",
    "end\n",
    "\n",
    "function Chart(len::Integer)\n",
    "    Chart(\n",
    "        Edge[],\n",
    "        Edge[],\n",
    "        [edges for i in 1:len, j in 1:len])\n",
    "end\n",
    "\n",
    "# function fundamental_rule!(chart::Chart)\n",
    "#     for arc in chart.active_arcs\n",
    "#         i, j = arc.span\n",
    "        \n",
    "# end\n",
    "\n",
    "end\n"
   ]
  },
  {
   "cell_type": "markdown",
   "metadata": {},
   "source": [
    "Let's try directly following the example, from http://cs.union.edu/~striegnk/courses/nlp-with-prolog/html/node71.html#l9.sec.bottomup"
   ]
  },
  {
   "cell_type": "code",
   "execution_count": 35,
   "metadata": {},
   "outputs": [
    {
     "name": "stderr",
     "output_type": "stream",
     "text": [
      "WARNING: replacing module Charts.\n"
     ]
    },
    {
     "data": {
      "text/plain": [
       "Main.Charts"
      ]
     },
     "execution_count": 35,
     "metadata": {},
     "output_type": "execute_result"
    }
   ],
   "source": [
    "module Charts\n",
    "\n",
    "struct Edge\n",
    "    head::Symbol\n",
    "    constituents::Vector{Symbol}\n",
    "    start::Int\n",
    "    stop::Int\n",
    "    completed::Int\n",
    "end\n",
    "\n",
    "function Base.hash(e::Edge, h::UInt)\n",
    "    h = hash(e.head, h)\n",
    "    h = hash(e.constituents, h)\n",
    "    h = hash(e.start, h)\n",
    "    h = hash(e.stop, h)\n",
    "    h = hash(e.completed, h)\n",
    "end\n",
    "\n",
    "function Base.:(==)(e1::Edge, e2::Edge)\n",
    "    e1.head == e2.head &&\n",
    "    e1.constituents == e2.constituents &&\n",
    "    e1.start == e2.start &&\n",
    "    e1.stop == e2.stop &&\n",
    "    e1.completed == e2.completed\n",
    "end\n",
    "\n",
    "isactive(edge::Edge) = edge.completed < length(edge.constituents)\n",
    "needs(edge::Edge) = edge.constituents[edge.completed + 1]\n",
    "\n",
    "function Base.show(io::IO, e::Edge)\n",
    "    constituents = copy(e.constituents)\n",
    "    insert!(constituents, e.completed + 1, :.)\n",
    "    print(io, \"<$(e.start), $(e.stop), $(e.head) -> $(join(constituents, ' '))>\")\n",
    "end\n",
    "\n",
    "function parse()\n",
    "    grammar = [\n",
    "        :S => [:NP, :VP, :PP],\n",
    "        :S => [:NP, :VP],\n",
    "        :NP => [:PN],\n",
    "        :VP => [:IV],\n",
    "        :PP => [:P, :NP],\n",
    "    ]\n",
    "    \n",
    "    # step 1\n",
    "    agenda = Edge[]\n",
    "    chart = Edge[]\n",
    "    \n",
    "    push!(agenda, Edge(:PN, [:mia], 0, 1, 1))\n",
    "    push!(agenda, Edge(:IV, [:danced], 1, 2, 1))\n",
    "    \n",
    "    while !isempty(agenda)\n",
    "#         println(\"beginning:\")\n",
    "#         @show chart agenda\n",
    "        \n",
    "        # step 2a\n",
    "        edge = popfirst!(agenda)\n",
    "#         @show edge\n",
    "        \n",
    "        # step 2b\n",
    "        if edge ∉ chart\n",
    "            println(\"moving: $edge to chart\")\n",
    "            push!(chart, edge)\n",
    "        end\n",
    "        \n",
    "        # step 2c\n",
    "        if isactive(edge)\n",
    "            s = needs(edge)\n",
    "            for arc in chart\n",
    "                if !isactive(arc) && arc.start == edge.stop && arc.head == s\n",
    "                    combined = Edge(edge.head, edge.constituents, edge.start, arc.stop, edge.completed + 1)\n",
    "                    if combined ∉ chart\n",
    "                        println(\"fundamental rule: \", combined)\n",
    "                        pushfirst!(agenda, combined)\n",
    "                    end\n",
    "                end\n",
    "            end\n",
    "        else\n",
    "            for arc in chart\n",
    "                if isactive(arc) && arc.stop == edge.start && needs(arc) == edge.head\n",
    "                    combined = Edge(arc.head, arc.constituents, arc.start, edge.stop, arc.completed + 1)\n",
    "                    if combined ∉ chart\n",
    "                        println(\"fundamental rule: \", combined)\n",
    "                        pushfirst!(agenda, combined)\n",
    "                    end\n",
    "                end\n",
    "            end\n",
    "        end\n",
    "        \n",
    "        # step 2d\n",
    "        if !isactive(edge)\n",
    "            for rule in grammar\n",
    "                if rule[2][1] == edge.head\n",
    "                    candidate = Edge(rule[1], rule[2], edge.start, edge.start, 0)\n",
    "                    if candidate ∉ chart\n",
    "                        println(\"bottom-up: \", candidate)\n",
    "                        pushfirst!(agenda, candidate)\n",
    "                    end\n",
    "                        \n",
    "                end \n",
    "            end\n",
    "        end\n",
    "        \n",
    "#         println(\"end\")\n",
    "        @show chart agenda\n",
    "        isempty(readline(stdin)) || break\n",
    "    end\n",
    "end\n",
    "\n",
    "\n",
    "end"
   ]
  },
  {
   "cell_type": "code",
   "execution_count": 187,
   "metadata": {},
   "outputs": [
    {
     "data": {
      "text/plain": [
       "++ (generic function with 1 method)"
      ]
     },
     "execution_count": 187,
     "metadata": {},
     "output_type": "execute_result"
    }
   ],
   "source": [
    "++(x, y) = \"$x $y\""
   ]
  },
  {
   "cell_type": "code",
   "execution_count": 188,
   "metadata": {},
   "outputs": [
    {
     "data": {
      "text/plain": [
       "\"1 2\""
      ]
     },
     "execution_count": 188,
     "metadata": {},
     "output_type": "execute_result"
    }
   ],
   "source": [
    "1 ++ 2"
   ]
  },
  {
   "cell_type": "code",
   "execution_count": 36,
   "metadata": {
    "scrolled": false
   },
   "outputs": [
    {
     "name": "stdout",
     "output_type": "stream",
     "text": [
      "moving: <0, 1, PN -> mia .> to chart\n",
      "bottom-up: <0, 0, NP -> . PN>\n",
      "chart = Main.Charts.Edge[<0, 1, PN -> mia .>]\n",
      "agenda = Main.Charts.Edge[<0, 0, NP -> . PN>, <1, 2, IV -> danced .>]\n",
      "stdin> \n",
      "moving: <0, 0, NP -> . PN> to chart\n",
      "fundamental rule: <0, 1, NP -> PN .>\n",
      "chart = Main.Charts.Edge[<0, 1, PN -> mia .>, <0, 0, NP -> . PN>]\n",
      "agenda = Main.Charts.Edge[<0, 1, NP -> PN .>, <1, 2, IV -> danced .>]\n",
      "stdin> \n",
      "moving: <0, 1, NP -> PN .> to chart\n",
      "bottom-up: <0, 0, S -> . NP VP PP>\n",
      "bottom-up: <0, 0, S -> . NP VP>\n",
      "chart = Main.Charts.Edge[<0, 1, PN -> mia .>, <0, 0, NP -> . PN>, <0, 1, NP -> PN .>]\n",
      "agenda = Main.Charts.Edge[<0, 0, S -> . NP VP>, <0, 0, S -> . NP VP PP>, <1, 2, IV -> danced .>]\n",
      "stdin> \n",
      "moving: <0, 0, S -> . NP VP> to chart\n",
      "fundamental rule: <0, 1, S -> NP . VP>\n",
      "chart = Main.Charts.Edge[<0, 1, PN -> mia .>, <0, 0, NP -> . PN>, <0, 1, NP -> PN .>, <0, 0, S -> . NP VP>]\n",
      "agenda = Main.Charts.Edge[<0, 1, S -> NP . VP>, <0, 0, S -> . NP VP PP>, <1, 2, IV -> danced .>]\n",
      "stdin> \n",
      "moving: <0, 1, S -> NP . VP> to chart\n",
      "chart = Main.Charts.Edge[<0, 1, PN -> mia .>, <0, 0, NP -> . PN>, <0, 1, NP -> PN .>, <0, 0, S -> . NP VP>, <0, 1, S -> NP . VP>]\n",
      "agenda = Main.Charts.Edge[<0, 0, S -> . NP VP PP>, <1, 2, IV -> danced .>]\n",
      "stdin> \n",
      "moving: <0, 0, S -> . NP VP PP> to chart\n",
      "fundamental rule: <0, 1, S -> NP . VP PP>\n",
      "chart = Main.Charts.Edge[<0, 1, PN -> mia .>, <0, 0, NP -> . PN>, <0, 1, NP -> PN .>, <0, 0, S -> . NP VP>, <0, 1, S -> NP . VP>, <0, 0, S -> . NP VP PP>]\n",
      "agenda = Main.Charts.Edge[<0, 1, S -> NP . VP PP>, <1, 2, IV -> danced .>]\n",
      "stdin> \n",
      "moving: <0, 1, S -> NP . VP PP> to chart\n",
      "chart = Main.Charts.Edge[<0, 1, PN -> mia .>, <0, 0, NP -> . PN>, <0, 1, NP -> PN .>, <0, 0, S -> . NP VP>, <0, 1, S -> NP . VP>, <0, 0, S -> . NP VP PP>, <0, 1, S -> NP . VP PP>]\n",
      "agenda = Main.Charts.Edge[<1, 2, IV -> danced .>]\n",
      "stdin> \n",
      "moving: <1, 2, IV -> danced .> to chart\n",
      "bottom-up: <1, 1, VP -> . IV>\n",
      "chart = Main.Charts.Edge[<0, 1, PN -> mia .>, <0, 0, NP -> . PN>, <0, 1, NP -> PN .>, <0, 0, S -> . NP VP>, <0, 1, S -> NP . VP>, <0, 0, S -> . NP VP PP>, <0, 1, S -> NP . VP PP>, <1, 2, IV -> danced .>]\n",
      "agenda = Main.Charts.Edge[<1, 1, VP -> . IV>]\n",
      "stdin> \n",
      "moving: <1, 1, VP -> . IV> to chart\n",
      "fundamental rule: <1, 2, VP -> IV .>\n",
      "chart = Main.Charts.Edge[<0, 1, PN -> mia .>, <0, 0, NP -> . PN>, <0, 1, NP -> PN .>, <0, 0, S -> . NP VP>, <0, 1, S -> NP . VP>, <0, 0, S -> . NP VP PP>, <0, 1, S -> NP . VP PP>, <1, 2, IV -> danced .>, <1, 1, VP -> . IV>]\n",
      "agenda = Main.Charts.Edge[<1, 2, VP -> IV .>]\n",
      "stdin> \n",
      "moving: <1, 2, VP -> IV .> to chart\n",
      "fundamental rule: <0, 2, S -> NP VP .>\n",
      "fundamental rule: <0, 2, S -> NP VP . PP>\n",
      "chart = Main.Charts.Edge[<0, 1, PN -> mia .>, <0, 0, NP -> . PN>, <0, 1, NP -> PN .>, <0, 0, S -> . NP VP>, <0, 1, S -> NP . VP>, <0, 0, S -> . NP VP PP>, <0, 1, S -> NP . VP PP>, <1, 2, IV -> danced .>, <1, 1, VP -> . IV>, <1, 2, VP -> IV .>]\n",
      "agenda = Main.Charts.Edge[<0, 2, S -> NP VP . PP>, <0, 2, S -> NP VP .>]\n",
      "stdin> \n",
      "moving: <0, 2, S -> NP VP . PP> to chart\n",
      "chart = Main.Charts.Edge[<0, 1, PN -> mia .>, <0, 0, NP -> . PN>, <0, 1, NP -> PN .>, <0, 0, S -> . NP VP>, <0, 1, S -> NP . VP>, <0, 0, S -> . NP VP PP>, <0, 1, S -> NP . VP PP>, <1, 2, IV -> danced .>, <1, 1, VP -> . IV>, <1, 2, VP -> IV .>, <0, 2, S -> NP VP . PP>]\n",
      "agenda = Main.Charts.Edge[<0, 2, S -> NP VP .>]\n",
      "stdin> \n",
      "moving: <0, 2, S -> NP VP .> to chart\n",
      "chart = Main.Charts.Edge[<0, 1, PN -> mia .>, <0, 0, NP -> . PN>, <0, 1, NP -> PN .>, <0, 0, S -> . NP VP>, <0, 1, S -> NP . VP>, <0, 0, S -> . NP VP PP>, <0, 1, S -> NP . VP PP>, <1, 2, IV -> danced .>, <1, 1, VP -> . IV>, <1, 2, VP -> IV .>, <0, 2, S -> NP VP . PP>, <0, 2, S -> NP VP .>]\n",
      "agenda = Main.Charts.Edge[]\n",
      "stdin> \n"
     ]
    }
   ],
   "source": [
    "Charts.parse()"
   ]
  },
  {
   "cell_type": "code",
   "execution_count": null,
   "metadata": {},
   "outputs": [],
   "source": []
  }
 ],
 "metadata": {
  "@webio": {
   "lastCommId": "2591aefb502d418db9dd788e524c9429",
   "lastKernelId": "815d1439-a4e8-4f85-a2fb-6a01123ffecb"
  },
  "kernelspec": {
   "display_name": "Julia 1.0.2",
   "language": "julia",
   "name": "julia-1.0"
  },
  "language_info": {
   "file_extension": ".jl",
   "mimetype": "application/julia",
   "name": "julia",
   "version": "1.0.2"
  }
 },
 "nbformat": 4,
 "nbformat_minor": 2
}
