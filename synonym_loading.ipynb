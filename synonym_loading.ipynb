{
 "cells": [
  {
   "cell_type": "code",
   "execution_count": 1,
   "metadata": {},
   "outputs": [],
   "source": [
    "using Pkg\n",
    "pkg\"activate .\""
   ]
  },
  {
   "cell_type": "code",
   "execution_count": null,
   "metadata": {},
   "outputs": [],
   "source": [
    "open"
   ]
  },
  {
   "cell_type": "code",
   "execution_count": 35,
   "metadata": {},
   "outputs": [
    {
     "data": {
      "text/plain": [
       "\"abc\""
      ]
     },
     "execution_count": 35,
     "metadata": {},
     "output_type": "execute_result"
    }
   ],
   "source": [
    "replace(\"abc123\", r\"[^a-z]\" => \"\")"
   ]
  },
  {
   "cell_type": "code",
   "execution_count": 41,
   "metadata": {},
   "outputs": [
    {
     "data": {
      "text/plain": [
       "remove_loops! (generic function with 1 method)"
      ]
     },
     "execution_count": 41,
     "metadata": {},
     "output_type": "execute_result"
    }
   ],
   "source": [
    "function parse_heading(line)\n",
    "    parts = split(line, '|')\n",
    "    length(parts) == 2 || @show line parts\n",
    "    word = parts[1]\n",
    "    num_entries = parse(Int, parts[2])\n",
    "    word, num_entries\n",
    "end\n",
    "\n",
    "function parse_entry(line)\n",
    "    normalize.(split(line, '|')[2:end])\n",
    "end\n",
    "\n",
    "function add_synonyms!(synonyms, word, list)\n",
    "    entries = get!(() -> Set{String}(), synonyms, word)\n",
    "    for entry in list\n",
    "        push!(entries, entry)\n",
    "    end\n",
    "end\n",
    "\n",
    "function normalize(word)\n",
    "    replace(lowercase(word), r\"[^a-z0-9]\" => \"\")\n",
    "end\n",
    "\n",
    "function parse_synonyms(fname)\n",
    "    synonyms = Dict{String, Set{String}}()\n",
    "    open(fname) do file\n",
    "        @assert readline(file) == \"ISO8859-1\"\n",
    "        while true\n",
    "            line = readline(file)\n",
    "            if isempty(line)\n",
    "                break\n",
    "            end\n",
    "            word, num_entries = parse_heading(line)\n",
    "            for i in 1:num_entries\n",
    "                add_synonyms!(synonyms, word, parse_entry(readline(file)))\n",
    "            end\n",
    "        end            \n",
    "    end\n",
    "    synonyms\n",
    "end\n",
    "\n",
    "function make_symmetric!(synonyms)\n",
    "    for (word, entries) in synonyms\n",
    "        for entry in entries\n",
    "            push!(get!(() -> Set{String}(), synonyms, entry), word)\n",
    "        end\n",
    "    end\n",
    "end\n",
    "    \n",
    "function remove_loops!(synonyms)\n",
    "    for (word, entries) in synonyms\n",
    "        if word in entries\n",
    "            delete!(entries, word)\n",
    "        end\n",
    "    end\n",
    "end"
   ]
  },
  {
   "cell_type": "code",
   "execution_count": 42,
   "metadata": {
    "scrolled": true
   },
   "outputs": [],
   "source": [
    "synonyms = parse_synonyms(\"corpora/OpenOffice/MyThes-1.0/th_en_US_new.dat\");\n",
    "make_symmetric!(synonyms)\n",
    "remove_loops!(synonyms)"
   ]
  },
  {
   "cell_type": "code",
   "execution_count": 43,
   "metadata": {},
   "outputs": [
    {
     "data": {
      "text/plain": [
       "Set([\"permic\", \"komi\"])"
      ]
     },
     "execution_count": 43,
     "metadata": {},
     "output_type": "execute_result"
    }
   ],
   "source": [
    "synonyms[\"zyrian\"]"
   ]
  },
  {
   "cell_type": "code",
   "execution_count": 45,
   "metadata": {},
   "outputs": [
    {
     "data": {
      "text/plain": [
       "true"
      ]
     },
     "execution_count": 45,
     "metadata": {},
     "output_type": "execute_result"
    }
   ],
   "source": [
    "\"english\" in synonyms[\"spin\"]"
   ]
  },
  {
   "cell_type": "code",
   "execution_count": 48,
   "metadata": {},
   "outputs": [
    {
     "data": {
      "text/plain": [
       "Set([\"atlantic coast\", \"barbary coast\", \"pacific coast\", \"movement\", \"view\", \"vista\", \"prospect\", \"panorama\", \"littoral zone\", \"intertidal\"  …  \"seaside\", \"slip\", \"gulf coast\", \"littoral\", \"seacoast\", \"incline\", \"side\", \"seashore\", \"litoral\", \"aeolia\", \"seaboard\"])"
      ]
     },
     "execution_count": 48,
     "metadata": {},
     "output_type": "execute_result"
    }
   ],
   "source": [
    "synonyms[\"coast\"]"
   ]
  },
  {
   "cell_type": "code",
   "execution_count": 49,
   "metadata": {},
   "outputs": [],
   "source": [
    "using Statistics"
   ]
  },
  {
   "cell_type": "code",
   "execution_count": 51,
   "metadata": {},
   "outputs": [
    {
     "data": {
      "text/plain": [
       "6.390917271159772"
      ]
     },
     "execution_count": 51,
     "metadata": {},
     "output_type": "execute_result"
    }
   ],
   "source": [
    "mean(length, values(synonyms))"
   ]
  },
  {
   "cell_type": "code",
   "execution_count": 54,
   "metadata": {},
   "outputs": [
    {
     "data": {
      "text/plain": [
       "3.0"
      ]
     },
     "execution_count": 54,
     "metadata": {},
     "output_type": "execute_result"
    }
   ],
   "source": [
    "median(length.(values(synonyms)))"
   ]
  },
  {
   "cell_type": "code",
   "execution_count": 55,
   "metadata": {},
   "outputs": [
    {
     "data": {
      "text/plain": [
       "1024"
      ]
     },
     "execution_count": 55,
     "metadata": {},
     "output_type": "execute_result"
    }
   ],
   "source": [
    "maximum(length, values(synonyms))"
   ]
  },
  {
   "cell_type": "code",
   "execution_count": 56,
   "metadata": {},
   "outputs": [
    {
     "data": {
      "text/plain": [
       "1-element Array{String,1}:\n",
       " \"change\""
      ]
     },
     "execution_count": 56,
     "metadata": {},
     "output_type": "execute_result"
    }
   ],
   "source": [
    "[key for (key, entries) in synonyms if length(entries) > 1000]"
   ]
  },
  {
   "cell_type": "code",
   "execution_count": 57,
   "metadata": {},
   "outputs": [
    {
     "data": {
      "text/plain": [
       "Set([\"action\", \"acetylise\", \"redact\", \"laicise\", \"unsex\", \"meliorate\", \"raise\", \"clothing\", \"nascence\", \"keratinise\"  …  \"validate\", \"centralize\", \"unify\", \"part\", \"shorten\", \"synchronize\", \"dizzy\", \"minify\", \"concretize\", \"draw\", \"liquidise\"])"
      ]
     },
     "execution_count": 57,
     "metadata": {},
     "output_type": "execute_result"
    }
   ],
   "source": [
    "synonyms[\"change\"]"
   ]
  },
  {
   "cell_type": "code",
   "execution_count": null,
   "metadata": {},
   "outputs": [],
   "source": []
  }
 ],
 "metadata": {
  "@webio": {
   "lastCommId": "2321e2babfc548a5b7ea4b0dea91a0c5",
   "lastKernelId": "1c429342-9d07-44f0-9905-f920601cb2f3"
  },
  "kernelspec": {
   "display_name": "Julia 1.0.2",
   "language": "julia",
   "name": "julia-1.0"
  },
  "language_info": {
   "file_extension": ".jl",
   "mimetype": "application/julia",
   "name": "julia",
   "version": "1.0.2"
  }
 },
 "nbformat": 4,
 "nbformat_minor": 2
}
