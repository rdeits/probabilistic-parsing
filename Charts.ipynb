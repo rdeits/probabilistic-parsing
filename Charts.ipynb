{
 "cells": [
  {
   "cell_type": "code",
   "execution_count": 10,
   "metadata": {},
   "outputs": [],
   "source": [
    "using Pkg\n",
    "pkg\"activate .\""
   ]
  },
  {
   "cell_type": "code",
   "execution_count": 25,
   "metadata": {},
   "outputs": [
    {
     "name": "stdout",
     "output_type": "stream",
     "text": [
      "\u001b[32m\u001b[1m   Testing\u001b[22m\u001b[39m ChartParsers\n",
      "\u001b[32m\u001b[1m Resolving\u001b[22m\u001b[39m package versions...\n",
      "\u001b[32m\u001b[1m    Status\u001b[22m\u001b[39m `/tmp/tmpkXqCup/Manifest.toml`\n",
      " \u001b[90m [de988000]\u001b[39m\u001b[92m + ChartParsers v0.0.1 [`~/Projects/probabilistic-parsing/ChartParsers`]\u001b[39m\n",
      " \u001b[90m [2a0f44e3]\u001b[39m\u001b[92m + Base64  [`@stdlib/Base64`]\u001b[39m\n",
      " \u001b[90m [8ba89e20]\u001b[39m\u001b[92m + Distributed  [`@stdlib/Distributed`]\u001b[39m\n",
      " \u001b[90m [b77e0a4c]\u001b[39m\u001b[92m + InteractiveUtils  [`@stdlib/InteractiveUtils`]\u001b[39m\n",
      " \u001b[90m [8f399da3]\u001b[39m\u001b[92m + Libdl  [`@stdlib/Libdl`]\u001b[39m\n",
      " \u001b[90m [37e2e46d]\u001b[39m\u001b[92m + LinearAlgebra  [`@stdlib/LinearAlgebra`]\u001b[39m\n",
      " \u001b[90m [56ddb016]\u001b[39m\u001b[92m + Logging  [`@stdlib/Logging`]\u001b[39m\n",
      " \u001b[90m [d6f4376e]\u001b[39m\u001b[92m + Markdown  [`@stdlib/Markdown`]\u001b[39m\n",
      " \u001b[90m [9a3f8284]\u001b[39m\u001b[92m + Random  [`@stdlib/Random`]\u001b[39m\n",
      " \u001b[90m [9e88b42a]\u001b[39m\u001b[92m + Serialization  [`@stdlib/Serialization`]\u001b[39m\n",
      " \u001b[90m [6462fe0b]\u001b[39m\u001b[92m + Sockets  [`@stdlib/Sockets`]\u001b[39m\n",
      " \u001b[90m [8dfed614]\u001b[39m\u001b[92m + Test  [`@stdlib/Test`]\u001b[39m\n"
     ]
    },
    {
     "name": "stderr",
     "output_type": "stream",
     "text": [
      "┌ Warning: Could not load Revise.\n",
      "└ @ Main ~/.julia/config/startup.jl:7\n"
     ]
    },
    {
     "name": "stdout",
     "output_type": "stream",
     "text": [
      "Test Summary:          | Pass  Total\n",
      "arc in chart detection |   12     12\n",
      "Test Summary:                | Pass  Total\n",
      "Example from nlp-with-prolog |    6      6\n",
      "Test Summary:  | Pass  Total\n",
      "longer example |    2      2\n",
      "\u001b[32m\u001b[1m   Testing\u001b[22m\u001b[39m ChartParsers tests passed \n"
     ]
    }
   ],
   "source": [
    "pkg\"test ChartParsers\""
   ]
  },
  {
   "cell_type": "code",
   "execution_count": 16,
   "metadata": {},
   "outputs": [],
   "source": [
    "using Test\n",
    "using BenchmarkTools\n",
    "using ChartParsers"
   ]
  },
  {
   "cell_type": "code",
   "execution_count": 17,
   "metadata": {},
   "outputs": [
    {
     "data": {
      "text/plain": [
       "Set(ChartParsers.Arc[<0, 6, S -> NP VP .>])"
      ]
     },
     "execution_count": 17,
     "metadata": {},
     "output_type": "execute_result"
    }
   ],
   "source": [
    "tokens = split(\"mary sat on the table yesterday\")\n",
    "grammar = [\n",
    "    :S => [:NP, :VP],\n",
    "    :NP => [:PN],\n",
    "    :VP => [:V, :NP],\n",
    "    :VP => [:V, :PP],\n",
    "    :VP => [:VP, :AV],\n",
    "    :PP => [:P, :NP],\n",
    "    :NP => [:D, :N]\n",
    "]\n",
    "labels = Dict(\n",
    "    \"mary\" => [:PN],\n",
    "    \"sat\" => [:V],\n",
    "    \"on\" => [:P],\n",
    "    \"the\" => [:D],\n",
    "    \"table\" => [:N],\n",
    "    \"yesterday\" => [:AV]\n",
    ")\n",
    "chart = ChartParsers.parse(tokens, ChartParsers.Grammar(grammar, labels))\n",
    "parses = ChartParsers.complete_parses(chart)"
   ]
  },
  {
   "cell_type": "code",
   "execution_count": 18,
   "metadata": {},
   "outputs": [
    {
     "name": "stdout",
     "output_type": "stream",
     "text": [
      "(S\n",
      "  (NP (PN \"mary\"))\n",
      "  (VP\n",
      "    (VP\n",
      "      (V \"sat\")\n",
      "      (PP\n",
      "        (P \"on\")\n",
      "        (NP\n",
      "          (D \"the\")\n",
      "          (N \"table\"))))\n",
      "    (AV \"yesterday\")))"
     ]
    }
   ],
   "source": [
    "ChartParsers.expand(first(parses))"
   ]
  },
  {
   "cell_type": "code",
   "execution_count": 19,
   "metadata": {},
   "outputs": [
    {
     "data": {
      "text/plain": [
       "\"(S\\n  (NP (PN \\\"mary\\\"))\\n  (VP\\n    (VP\\n      (V \\\"sat\\\")\\n      (PP\\n        (P \\\"on\\\")\\n        (NP\\n          (D \\\"the\\\")\\n          (N \\\"table\\\"))))\\n    (AV \\\"yesterday\\\")))\""
      ]
     },
     "execution_count": 19,
     "metadata": {},
     "output_type": "execute_result"
    }
   ],
   "source": [
    "io = IOBuffer()\n",
    "ChartParsers.expand(io, first(parses))\n",
    "String(take!(io))"
   ]
  },
  {
   "cell_type": "code",
   "execution_count": 24,
   "metadata": {},
   "outputs": [
    {
     "data": {
      "text/plain": [
       "\"hello\\n  world\\n  bar\""
      ]
     },
     "execution_count": 24,
     "metadata": {},
     "output_type": "execute_result"
    }
   ],
   "source": [
    "x = \"\"\"\n",
    "hello\n",
    "  world\n",
    "  bar\"\"\""
   ]
  },
  {
   "cell_type": "code",
   "execution_count": null,
   "metadata": {},
   "outputs": [],
   "source": []
  }
 ],
 "metadata": {
  "@webio": {
   "lastCommId": "dd96a512d327434a9cd83712ffcee50f",
   "lastKernelId": "a9121158-a468-4fb2-b639-fc02197cd7ac"
  },
  "kernelspec": {
   "display_name": "Julia 1.0.2",
   "language": "julia",
   "name": "julia-1.0"
  },
  "language_info": {
   "file_extension": ".jl",
   "mimetype": "application/julia",
   "name": "julia",
   "version": "1.0.2"
  }
 },
 "nbformat": 4,
 "nbformat_minor": 2
}
