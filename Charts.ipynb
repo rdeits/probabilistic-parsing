{
 "cells": [
  {
   "cell_type": "code",
   "execution_count": 1,
   "metadata": {},
   "outputs": [],
   "source": [
    "using Pkg\n",
    "pkg\"activate .\""
   ]
  },
  {
   "cell_type": "code",
   "execution_count": 2,
   "metadata": {},
   "outputs": [],
   "source": [
    "using Test\n",
    "using BenchmarkTools"
   ]
  },
  {
   "cell_type": "code",
   "execution_count": 51,
   "metadata": {},
   "outputs": [
    {
     "name": "stderr",
     "output_type": "stream",
     "text": [
      "WARNING: replacing module Charts.\n"
     ]
    },
    {
     "data": {
      "text/plain": [
       "\u001b[32m\u001b[1mTest Passed\u001b[22m\u001b[39m"
      ]
     },
     "execution_count": 51,
     "metadata": {},
     "output_type": "execute_result"
    }
   ],
   "source": [
    "include(\"Charts/src/Charts.jl\")\n",
    "\n",
    "chart = Charts.Chart()\n",
    "a1 = Charts.Arc(0, 1, :NP => [:PN], [\"Mary\"])\n",
    "a2 = Charts.Arc(0, 0, :S => [:NP, :VP], [])\n",
    "a3 = a2 * a1\n",
    "\n",
    "@test a1 ∉ chart\n",
    "@test a2 ∉ chart\n",
    "@test a3 ∉ chart\n",
    "push!(chart, a1)\n",
    "@test a1 ∈ chart\n",
    "@test a2 ∉ chart\n",
    "@test a3 ∉ chart\n",
    "push!(chart, a2)\n",
    "@test a1 ∈ chart\n",
    "@test a2 ∈ chart\n",
    "@test a3 ∉ chart\n",
    "push!(chart, a3)\n",
    "@test a1 ∈ chart\n",
    "@test a2 ∈ chart\n",
    "@test a3 ∈ chart"
   ]
  },
  {
   "cell_type": "code",
   "execution_count": 45,
   "metadata": {},
   "outputs": [
    {
     "name": "stdout",
     "output_type": "stream",
     "text": [
      "agenda = Main.Charts.Arc[<0, 0, NP -> . PN>, <1, 2, IV -> W .>]\n",
      "agenda = Main.Charts.Arc[<0, 1, NP -> PN .>, <1, 2, IV -> W .>]\n",
      "agenda = Main.Charts.Arc[<0, 0, S -> . NP VP>, <0, 0, S -> . NP VP PP>, <1, 2, IV -> W .>]\n",
      "agenda = Main.Charts.Arc[<0, 1, S -> NP . VP>, <0, 0, S -> . NP VP PP>, <1, 2, IV -> W .>]\n",
      "agenda = Main.Charts.Arc[<0, 0, S -> . NP VP PP>, <1, 2, IV -> W .>]\n",
      "agenda = Main.Charts.Arc[<0, 1, S -> NP . VP PP>, <1, 2, IV -> W .>]\n",
      "agenda = Main.Charts.Arc[<1, 2, IV -> W .>]\n",
      "agenda = Main.Charts.Arc[<1, 1, VP -> . IV>]\n",
      "agenda = Main.Charts.Arc[<1, 2, VP -> IV .>]\n",
      "agenda = Main.Charts.Arc[<0, 2, S -> NP VP .>, <0, 2, S -> NP VP . PP>]\n",
      "agenda = Main.Charts.Arc[<0, 2, S -> NP VP . PP>]\n",
      "agenda = Main.Charts.Arc[]\n"
     ]
    },
    {
     "data": {
      "text/plain": [
       "Main.Charts.Chart(Dict(:NP=>[Set([<0, 0, S -> . NP VP>, <0, 0, S -> . NP VP PP>])],:IV=>[Set([]), Set([<1, 1, VP -> . IV>])],:VP=>[Set([]), Set([<0, 1, S -> NP . VP PP>, <0, 1, S -> NP . VP>])],:PP=>[Set([]), Set([]), Set([<0, 2, S -> NP VP . PP>])],:PN=>[Set([<0, 0, NP -> . PN>])],:S=>[Set([])]), Dict(:NP=>[Set([<0, 1, NP -> PN .>])],:IV=>[Set([]), Set([<1, 2, IV -> W .>])],:VP=>[Set([]), Set([<1, 2, VP -> IV .>])],:PP=>[Set([]), Set([]), Set([])],:PN=>[Set([<0, 1, PN -> W .>])],:S=>[Set([<0, 2, S -> NP VP .>])]))"
      ]
     },
     "execution_count": 45,
     "metadata": {},
     "output_type": "execute_result"
    }
   ],
   "source": [
    "chart = Charts.parse()"
   ]
  },
  {
   "cell_type": "code",
   "execution_count": 48,
   "metadata": {},
   "outputs": [
    {
     "name": "stdout",
     "output_type": "stream",
     "text": [
      "e = <0, 2, S -> NP VP .>\n"
     ]
    }
   ],
   "source": [
    "for e in Charts.storage(chart, false, :S, 0)\n",
    "    if e.stop == 2\n",
    "        @show e\n",
    "    end\n",
    "end"
   ]
  }
 ],
 "metadata": {
  "@webio": {
   "lastCommId": "bb5db69d0bee44ab9933c4f1ebde594c",
   "lastKernelId": "a9121158-a468-4fb2-b639-fc02197cd7ac"
  },
  "kernelspec": {
   "display_name": "Julia 1.0.2",
   "language": "julia",
   "name": "julia-1.0"
  },
  "language_info": {
   "file_extension": ".jl",
   "mimetype": "application/julia",
   "name": "julia",
   "version": "1.0.2"
  }
 },
 "nbformat": 4,
 "nbformat_minor": 2
}
