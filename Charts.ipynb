{
 "cells": [
  {
   "cell_type": "code",
   "execution_count": 1,
   "metadata": {},
   "outputs": [],
   "source": [
    "using Pkg\n",
    "pkg\"activate .\""
   ]
  },
  {
   "cell_type": "code",
   "execution_count": 2,
   "metadata": {},
   "outputs": [
    {
     "name": "stderr",
     "output_type": "stream",
     "text": [
      "┌ Info: Recompiling stale cache file /home/rdeits/.julia/compiled/v1.1/ChartParsers/D477m.ji for ChartParsers [de988000-0167-11e9-3115-2b7bbce15f76]\n",
      "└ @ Base loading.jl:1184\n"
     ]
    }
   ],
   "source": [
    "using Test\n",
    "using BenchmarkTools\n",
    "using ChartParsers"
   ]
  },
  {
   "cell_type": "code",
   "execution_count": 41,
   "metadata": {
    "scrolled": false
   },
   "outputs": [
    {
     "name": "stdout",
     "output_type": "stream",
     "text": [
      "\u001b[32m\u001b[1m   Testing\u001b[22m\u001b[39m ChartParsers\n",
      "\u001b[32m\u001b[1m Resolving\u001b[22m\u001b[39m package versions...\n",
      "\u001b[32m\u001b[1m    Status\u001b[22m\u001b[39m `/tmp/tmpsVCIHv/Manifest.toml`\n",
      " \u001b[90m [de988000]\u001b[39m\u001b[92m + ChartParsers v0.0.1 [`~/Projects/probabilistic-parsing/ChartParsers`]\u001b[39m\n",
      " \u001b[90m [2a0f44e3]\u001b[39m\u001b[92m + Base64  [`@stdlib/Base64`]\u001b[39m\n",
      " \u001b[90m [8ba89e20]\u001b[39m\u001b[92m + Distributed  [`@stdlib/Distributed`]\u001b[39m\n",
      " \u001b[90m [b77e0a4c]\u001b[39m\u001b[92m + InteractiveUtils  [`@stdlib/InteractiveUtils`]\u001b[39m\n",
      " \u001b[90m [8f399da3]\u001b[39m\u001b[92m + Libdl  [`@stdlib/Libdl`]\u001b[39m\n",
      " \u001b[90m [37e2e46d]\u001b[39m\u001b[92m + LinearAlgebra  [`@stdlib/LinearAlgebra`]\u001b[39m\n",
      " \u001b[90m [56ddb016]\u001b[39m\u001b[92m + Logging  [`@stdlib/Logging`]\u001b[39m\n",
      " \u001b[90m [d6f4376e]\u001b[39m\u001b[92m + Markdown  [`@stdlib/Markdown`]\u001b[39m\n",
      " \u001b[90m [9a3f8284]\u001b[39m\u001b[92m + Random  [`@stdlib/Random`]\u001b[39m\n",
      " \u001b[90m [9e88b42a]\u001b[39m\u001b[92m + Serialization  [`@stdlib/Serialization`]\u001b[39m\n",
      " \u001b[90m [6462fe0b]\u001b[39m\u001b[92m + Sockets  [`@stdlib/Sockets`]\u001b[39m\n",
      " \u001b[90m [8dfed614]\u001b[39m\u001b[92m + Test  [`@stdlib/Test`]\u001b[39m\n"
     ]
    },
    {
     "name": "stderr",
     "output_type": "stream",
     "text": [
      "┌ Warning: Could not load Revise.\n",
      "└ @ Main ~/.julia/config/startup.jl:7\n"
     ]
    },
    {
     "name": "stdout",
     "output_type": "stream",
     "text": [
      "Test Summary:          | Pass  Total\n",
      "arc in chart detection |   12     12\n",
      "state.agenda = ActiveArc{Pair{Symbol,Array{Symbol,1}}}[<0, 1, PN -> .>, <1, 2, IV -> .>]\n",
      "state.agenda = ActiveArc{Pair{Symbol,Array{Symbol,1}}}[<0, 1, PN -> .>, <1, 1, VP -> . IV>]\n",
      "state.agenda = ActiveArc{Pair{Symbol,Array{Symbol,1}}}[<0, 1, PN -> .>, <1, 2, VP -> IV .>]\n",
      "state.agenda = ActiveArc{Pair{Symbol,Array{Symbol,1}}}[<0, 1, PN -> .>]\n",
      "state.agenda = ActiveArc{Pair{Symbol,Array{Symbol,1}}}[<0, 0, NP -> . PN>]\n",
      "state.agenda = ActiveArc{Pair{Symbol,Array{Symbol,1}}}[<0, 1, NP -> PN .>]\n",
      "state.agenda = ActiveArc{Pair{Symbol,Array{Symbol,1}}}[<0, 0, S -> . NP VP PP>, <0, 0, S -> . NP VP>]\n",
      "state.agenda = ActiveArc{Pair{Symbol,Array{Symbol,1}}}[<0, 0, S -> . NP VP PP>, <0, 1, S -> NP . VP>]\n",
      "state.agenda = ActiveArc{Pair{Symbol,Array{Symbol,1}}}[<0, 0, S -> . NP VP PP>, <0, 2, S -> NP VP .>]\n",
      "state.agenda = ActiveArc{Pair{Symbol,Array{Symbol,1}}}[<0, 0, S -> . NP VP PP>]\n",
      "state.agenda = ActiveArc{Pair{Symbol,Array{Symbol,1}}}[<0, 1, S -> NP . VP PP>]\n",
      "state.agenda = ActiveArc{Pair{Symbol,Array{Symbol,1}}}[<0, 2, S -> NP VP . PP>]\n",
      "state.agenda = ActiveArc{Pair{Symbol,Array{Symbol,1}}}[<0, 1, PN -> .>, <1, 2, IV -> .>]\n",
      "state.agenda = ActiveArc{Pair{Symbol,Array{Symbol,1}}}[<0, 1, PN -> .>, <1, 1, VP -> . IV>]\n",
      "state.agenda = ActiveArc{Pair{Symbol,Array{Symbol,1}}}[<0, 1, PN -> .>, <1, 2, VP -> IV .>]\n",
      "state.agenda = ActiveArc{Pair{Symbol,Array{Symbol,1}}}[<0, 1, PN -> .>]\n",
      "state.agenda = ActiveArc{Pair{Symbol,Array{Symbol,1}}}[<0, 0, NP -> . PN>]\n",
      "state.agenda = ActiveArc{Pair{Symbol,Array{Symbol,1}}}[<0, 1, NP -> PN .>]\n",
      "state.agenda = ActiveArc{Pair{Symbol,Array{Symbol,1}}}[<0, 0, S -> . NP VP PP>, <0, 0, S -> . NP VP>]\n",
      "state.agenda = ActiveArc{Pair{Symbol,Array{Symbol,1}}}[<0, 0, S -> . NP VP PP>, <0, 1, S -> NP . VP>]\n",
      "state.agenda = ActiveArc{Pair{Symbol,Array{Symbol,1}}}[<0, 0, S -> . NP VP PP>, <0, 2, S -> NP VP .>]\n",
      "state.agenda = ActiveArc{Pair{Symbol,Array{Symbol,1}}}[<0, 0, S -> . NP VP PP>]\n",
      "state.agenda = ActiveArc{Pair{Symbol,Array{Symbol,1}}}[<0, 1, S -> NP . VP PP>]\n",
      "state.agenda = ActiveArc{Pair{Symbol,Array{Symbol,1}}}[<0, 2, S -> NP VP . PP>]\n",
      "state.agenda = ActiveArc{Pair{Symbol,Array{Symbol,1}}}[<0, 0, S -> . NP VP PP>, <0, 0, S -> . NP VP>]\n",
      "state.agenda = ActiveArc{Pair{Symbol,Array{Symbol,1}}}[<0, 0, S -> . NP VP PP>, <0, 0, NP -> . PN>]\n",
      "state.agenda = ActiveArc{Pair{Symbol,Array{Symbol,1}}}[<0, 0, S -> . NP VP PP>, <0, 1, NP -> PN .>]\n",
      "state.agenda = ActiveArc{Pair{Symbol,Array{Symbol,1}}}[<0, 0, S -> . NP VP PP>, <0, 1, S -> NP . VP>]\n",
      "state.agenda = ActiveArc{Pair{Symbol,Array{Symbol,1}}}[<0, 0, S -> . NP VP PP>, <1, 1, VP -> . IV>]\n",
      "state.agenda = ActiveArc{Pair{Symbol,Array{Symbol,1}}}[<0, 0, S -> . NP VP PP>, <1, 2, VP -> IV .>]\n",
      "state.agenda = ActiveArc{Pair{Symbol,Array{Symbol,1}}}[<0, 0, S -> . NP VP PP>, <0, 2, S -> NP VP .>]\n",
      "state.agenda = ActiveArc{Pair{Symbol,Array{Symbol,1}}}[<0, 0, S -> . NP VP PP>]\n",
      "state.agenda = ActiveArc{Pair{Symbol,Array{Symbol,1}}}[<0, 1, S -> NP . VP PP>]\n",
      "state.agenda = ActiveArc{Pair{Symbol,Array{Symbol,1}}}[<0, 2, S -> NP VP . PP>]\n",
      "state.agenda = ActiveArc{Pair{Symbol,Array{Symbol,1}}}[<2, 2, PP -> . P NP>]\n",
      "state.agenda = ActiveArc{Pair{Symbol,Array{Symbol,1}}}[<0, 0, S -> . NP VP PP>, <0, 0, S -> . NP VP>]\n",
      "state.agenda = ActiveArc{Pair{Symbol,Array{Symbol,1}}}[<0, 0, S -> . NP VP PP>, <0, 0, NP -> . PN>]\n",
      "state.agenda = ActiveArc{Pair{Symbol,Array{Symbol,1}}}[<0, 0, S -> . NP VP PP>, <0, 1, NP -> PN .>]\n",
      "state.agenda = ActiveArc{Pair{Symbol,Array{Symbol,1}}}[<0, 0, S -> . NP VP PP>, <0, 1, S -> NP . VP>]\n",
      "state.agenda = ActiveArc{Pair{Symbol,Array{Symbol,1}}}[<0, 0, S -> . NP VP PP>, <1, 1, VP -> . IV>]\n",
      "state.agenda = ActiveArc{Pair{Symbol,Array{Symbol,1}}}[<0, 0, S -> . NP VP PP>, <1, 2, VP -> IV .>]\n",
      "state.agenda = ActiveArc{Pair{Symbol,Array{Symbol,1}}}[<0, 0, S -> . NP VP PP>, <0, 2, S -> NP VP .>]\n",
      "state.agenda = ActiveArc{Pair{Symbol,Array{Symbol,1}}}[<0, 0, S -> . NP VP PP>]\n",
      "state.agenda = ActiveArc{Pair{Symbol,Array{Symbol,1}}}[<0, 1, S -> NP . VP PP>]\n",
      "state.agenda = ActiveArc{Pair{Symbol,Array{Symbol,1}}}[<0, 2, S -> NP VP . PP>]\n",
      "state.agenda = ActiveArc{Pair{Symbol,Array{Symbol,1}}}[<2, 2, PP -> . P NP>]\n",
      "Test Summary:                | Pass  Total\n",
      "Example from nlp-with-prolog |   12     12\n",
      "state.agenda = ActiveArc{Pair{Symbol,Array{Symbol,1}}}[<0, 1, PN -> .>, <1, 2, V -> .>, <2, 3, P -> .>, <3, 4, D -> .>, <4, 5, N -> .>, <5, 6, AV -> .>]\n",
      "state.agenda = ActiveArc{Pair{Symbol,Array{Symbol,1}}}[<0, 1, PN -> .>, <1, 2, V -> .>, <2, 3, P -> .>, <3, 4, D -> .>, <4, 5, N -> .>]\n",
      "state.agenda = ActiveArc{Pair{Symbol,Array{Symbol,1}}}[<0, 1, PN -> .>, <1, 2, V -> .>, <2, 3, P -> .>, <3, 4, D -> .>]\n",
      "state.agenda = ActiveArc{Pair{Symbol,Array{Symbol,1}}}[<0, 1, PN -> .>, <1, 2, V -> .>, <2, 3, P -> .>, <3, 3, NP -> . D N>]\n",
      "state.agenda = ActiveArc{Pair{Symbol,Array{Symbol,1}}}[<0, 1, PN -> .>, <1, 2, V -> .>, <2, 3, P -> .>, <3, 4, NP -> D . N>]\n",
      "state.agenda = ActiveArc{Pair{Symbol,Array{Symbol,1}}}[<0, 1, PN -> .>, <1, 2, V -> .>, <2, 3, P -> .>, <3, 5, NP -> D N .>]\n",
      "state.agenda = ActiveArc{Pair{Symbol,Array{Symbol,1}}}[<0, 1, PN -> .>, <1, 2, V -> .>, <2, 3, P -> .>, <3, 3, S -> . NP VP>]\n",
      "state.agenda = ActiveArc{Pair{Symbol,Array{Symbol,1}}}[<0, 1, PN -> .>, <1, 2, V -> .>, <2, 3, P -> .>, <3, 5, S -> NP . VP>]\n",
      "state.agenda = ActiveArc{Pair{Symbol,Array{Symbol,1}}}[<0, 1, PN -> .>, <1, 2, V -> .>, <2, 3, P -> .>]\n",
      "state.agenda = ActiveArc{Pair{Symbol,Array{Symbol,1}}}[<0, 1, PN -> .>, <1, 2, V -> .>, <2, 2, PP -> . P NP>]\n",
      "state.agenda = ActiveArc{Pair{Symbol,Array{Symbol,1}}}[<0, 1, PN -> .>, <1, 2, V -> .>, <2, 3, PP -> P . NP>]\n",
      "state.agenda = ActiveArc{Pair{Symbol,Array{Symbol,1}}}[<0, 1, PN -> .>, <1, 2, V -> .>, <2, 5, PP -> P NP .>]\n",
      "state.agenda = ActiveArc{Pair{Symbol,Array{Symbol,1}}}[<0, 1, PN -> .>, <1, 2, V -> .>]\n",
      "state.agenda = ActiveArc{Pair{Symbol,Array{Symbol,1}}}[<0, 1, PN -> .>, <1, 1, VP -> . V NP>, <1, 1, VP -> . V PP>]\n",
      "state.agenda = ActiveArc{Pair{Symbol,Array{Symbol,1}}}[<0, 1, PN -> .>, <1, 1, VP -> . V NP>, <1, 2, VP -> V . PP>]\n",
      "state.agenda = ActiveArc{Pair{Symbol,Array{Symbol,1}}}[<0, 1, PN -> .>, <1, 1, VP -> . V NP>, <1, 5, VP -> V PP .>]\n",
      "state.agenda = ActiveArc{Pair{Symbol,Array{Symbol,1}}}[<0, 1, PN -> .>, <1, 1, VP -> . V NP>, <1, 1, VP -> . VP AV>]\n",
      "state.agenda = ActiveArc{Pair{Symbol,Array{Symbol,1}}}[<0, 1, PN -> .>, <1, 1, VP -> . V NP>, <1, 5, VP -> VP . AV>]\n",
      "state.agenda = ActiveArc{Pair{Symbol,Array{Symbol,1}}}[<0, 1, PN -> .>, <1, 1, VP -> . V NP>, <1, 6, VP -> VP AV .>]\n",
      "state.agenda = ActiveArc{Pair{Symbol,Array{Symbol,1}}}[<0, 1, PN -> .>, <1, 1, VP -> . V NP>, <1, 6, VP -> VP . AV>]\n",
      "state.agenda = ActiveArc{Pair{Symbol,Array{Symbol,1}}}[<0, 1, PN -> .>, <1, 1, VP -> . V NP>]\n",
      "state.agenda = ActiveArc{Pair{Symbol,Array{Symbol,1}}}[<0, 1, PN -> .>, <1, 2, VP -> V . NP>]\n",
      "state.agenda = ActiveArc{Pair{Symbol,Array{Symbol,1}}}[<0, 1, PN -> .>]\n",
      "state.agenda = ActiveArc{Pair{Symbol,Array{Symbol,1}}}[<0, 0, NP -> . PN>]\n",
      "state.agenda = ActiveArc{Pair{Symbol,Array{Symbol,1}}}[<0, 1, NP -> PN .>]\n",
      "state.agenda = ActiveArc{Pair{Symbol,Array{Symbol,1}}}[<0, 0, S -> . NP VP>]\n",
      "state.agenda = ActiveArc{Pair{Symbol,Array{Symbol,1}}}[<0, 1, S -> NP . VP>]\n",
      "state.agenda = ActiveArc{Pair{Symbol,Array{Symbol,1}}}[<0, 5, S -> NP VP .>, <0, 6, S -> NP VP .>]\n",
      "state.agenda = ActiveArc{Pair{Symbol,Array{Symbol,1}}}[<0, 5, S -> NP VP .>]\n",
      "Test Summary:  | Pass  Total\n",
      "longer example |    6      6\n",
      "state.agenda = ActiveArc{Pair{GrammaticalSymbol,Tuple{Vararg{GrammaticalSymbol,N}} where N}}[<0, 1, NP() -> .>, <1, 2, VP() -> .>]\n",
      "state.agenda = ActiveArc{Pair{GrammaticalSymbol,Tuple{Vararg{GrammaticalSymbol,N}} where N}}[<0, 1, NP() -> .>, <1, 1, S() -> . VP() NP()>]\n",
      "state.agenda = ActiveArc{Pair{GrammaticalSymbol,Tuple{Vararg{GrammaticalSymbol,N}} where N}}[<0, 1, NP() -> .>, <1, 2, S() -> VP() . NP()>]\n",
      "state.agenda = ActiveArc{Pair{GrammaticalSymbol,Tuple{Vararg{GrammaticalSymbol,N}} where N}}[<0, 1, NP() -> .>]\n",
      "state.agenda = ActiveArc{Pair{GrammaticalSymbol,Tuple{Vararg{GrammaticalSymbol,N}} where N}}[<0, 0, S() -> . NP() VP()>]\n",
      "state.agenda = ActiveArc{Pair{GrammaticalSymbol,Tuple{Vararg{GrammaticalSymbol,N}} where N}}[<0, 1, S() -> NP() . VP()>]\n",
      "state.agenda = ActiveArc{Pair{GrammaticalSymbol,Tuple{Vararg{GrammaticalSymbol,N}} where N}}[<0, 2, S() -> NP() VP() .>]\n"
     ]
    },
    {
     "name": "stdout",
     "output_type": "stream",
     "text": [
      "Test Summary: | Pass  Total\n",
      "typed rules   |    2      2\n",
      "\u001b[32m\u001b[1m   Testing\u001b[22m\u001b[39m ChartParsers tests passed \n"
     ]
    }
   ],
   "source": [
    "pkg\"test ChartParsers\""
   ]
  },
  {
   "cell_type": "code",
   "execution_count": 28,
   "metadata": {},
   "outputs": [
    {
     "data": {
      "text/plain": [
       "SimpleGrammar(Pair{Symbol,Array{Symbol,1}}[:S=>[:NP, :VP, :PP], :S=>[:NP, :VP], :NP=>[:PN], :VP=>[:IV], :PP=>[:P, :NP]], Dict(\"danced\"=>[:IV],\"mia\"=>[:PN]), :S)"
      ]
     },
     "execution_count": 28,
     "metadata": {},
     "output_type": "execute_result"
    }
   ],
   "source": [
    "grammar = SimpleGrammar([\n",
    "        :S => [:NP, :VP, :PP],\n",
    "        :S => [:NP, :VP],\n",
    "        :NP => [:PN],\n",
    "        :VP => [:IV],\n",
    "        :PP => [:P, :NP],\n",
    "    ], Dict(\n",
    "        \"mia\" => [:PN],\n",
    "        \"danced\" => [:IV]\n",
    "    ), :S)"
   ]
  },
  {
   "cell_type": "code",
   "execution_count": 29,
   "metadata": {},
   "outputs": [
    {
     "data": {
      "text/plain": [
       "ChartParser{Pair{Symbol,Array{Symbol,1}},SimpleGrammar,BottomUp}([\"mia\", \"danced\"], SimpleGrammar(Pair{Symbol,Array{Symbol,1}}[:S=>[:NP, :VP, :PP], :S=>[:NP, :VP], :NP=>[:PN], :VP=>[:IV], :PP=>[:P, :NP]], Dict(\"danced\"=>[:IV],\"mia\"=>[:PN]), :S), BottomUp())"
      ]
     },
     "execution_count": 29,
     "metadata": {},
     "output_type": "execute_result"
    }
   ],
   "source": [
    "tokens = split(\"mia danced\")\n",
    "c = ChartParser(tokens, grammar, BottomUp())"
   ]
  },
  {
   "cell_type": "code",
   "execution_count": 30,
   "metadata": {},
   "outputs": [
    {
     "name": "stdout",
     "output_type": "stream",
     "text": [
      "state.agenda = ChartParsers.ActiveArc{Pair{Symbol,Array{Symbol,1}}}[<0, 1, PN -> .>, <1, 2, IV -> .>]\n",
      "state.agenda = ChartParsers.ActiveArc{Pair{Symbol,Array{Symbol,1}}}[<0, 1, PN -> .>, <1, 1, VP -> . IV>]\n",
      "state.agenda = ChartParsers.ActiveArc{Pair{Symbol,Array{Symbol,1}}}[<0, 1, PN -> .>, <1, 2, VP -> IV .>]\n",
      "state.agenda = ChartParsers.ActiveArc{Pair{Symbol,Array{Symbol,1}}}[<0, 1, PN -> .>]\n",
      "state.agenda = ChartParsers.ActiveArc{Pair{Symbol,Array{Symbol,1}}}[<0, 0, NP -> . PN>]\n",
      "state.agenda = ChartParsers.ActiveArc{Pair{Symbol,Array{Symbol,1}}}[<0, 1, NP -> PN .>]\n",
      "state.agenda = ChartParsers.ActiveArc{Pair{Symbol,Array{Symbol,1}}}[<0, 0, S -> . NP VP PP>, <0, 0, S -> . NP VP>]\n",
      "state.agenda = ChartParsers.ActiveArc{Pair{Symbol,Array{Symbol,1}}}[<0, 0, S -> . NP VP PP>, <0, 1, S -> NP . VP>]\n",
      "state.agenda = ChartParsers.ActiveArc{Pair{Symbol,Array{Symbol,1}}}[<0, 0, S -> . NP VP PP>, <0, 2, S -> NP VP .>]\n",
      "state.agenda = ChartParsers.ActiveArc{Pair{Symbol,Array{Symbol,1}}}[<0, 0, S -> . NP VP PP>]\n",
      "state.agenda = ChartParsers.ActiveArc{Pair{Symbol,Array{Symbol,1}}}[<0, 1, S -> NP . VP PP>]\n",
      "state.agenda = ChartParsers.ActiveArc{Pair{Symbol,Array{Symbol,1}}}[<0, 2, S -> NP VP . PP>]\n"
     ]
    },
    {
     "data": {
      "text/plain": [
       "5-element Array{ChartParsers.PassiveArc{Pair{Symbol,Array{Symbol,1}}},1}:\n",
       " <1, 2, IV -> .>     \n",
       " <1, 2, VP -> IV .>  \n",
       " <0, 1, PN -> .>     \n",
       " <0, 1, NP -> PN .>  \n",
       " <0, 2, S -> NP VP .>"
      ]
     },
     "execution_count": 30,
     "metadata": {},
     "output_type": "execute_result"
    }
   ],
   "source": [
    "collect(c)"
   ]
  },
  {
   "cell_type": "code",
   "execution_count": 31,
   "metadata": {},
   "outputs": [
    {
     "name": "stdout",
     "output_type": "stream",
     "text": [
      "state.agenda = ChartParsers.ActiveArc{Pair{Symbol,Array{Symbol,1}}}[<0, 1, PN -> .>, <1, 2, IV -> .>]\n",
      "state.agenda = ChartParsers.ActiveArc{Pair{Symbol,Array{Symbol,1}}}[<0, 1, PN -> .>, <1, 1, VP -> . IV>]\n",
      "state.agenda = ChartParsers.ActiveArc{Pair{Symbol,Array{Symbol,1}}}[<0, 1, PN -> .>, <1, 2, VP -> IV .>]\n",
      "state.agenda = ChartParsers.ActiveArc{Pair{Symbol,Array{Symbol,1}}}[<0, 1, PN -> .>]\n",
      "state.agenda = ChartParsers.ActiveArc{Pair{Symbol,Array{Symbol,1}}}[<0, 0, NP -> . PN>]\n",
      "state.agenda = ChartParsers.ActiveArc{Pair{Symbol,Array{Symbol,1}}}[<0, 1, NP -> PN .>]\n",
      "state.agenda = ChartParsers.ActiveArc{Pair{Symbol,Array{Symbol,1}}}[<0, 0, S -> . NP VP PP>, <0, 0, S -> . NP VP>]\n",
      "state.agenda = ChartParsers.ActiveArc{Pair{Symbol,Array{Symbol,1}}}[<0, 0, S -> . NP VP PP>, <0, 1, S -> NP . VP>]\n",
      "state.agenda = ChartParsers.ActiveArc{Pair{Symbol,Array{Symbol,1}}}[<0, 0, S -> . NP VP PP>, <0, 2, S -> NP VP .>]\n",
      "state.agenda = ChartParsers.ActiveArc{Pair{Symbol,Array{Symbol,1}}}[<0, 0, S -> . NP VP PP>]\n",
      "state.agenda = ChartParsers.ActiveArc{Pair{Symbol,Array{Symbol,1}}}[<0, 1, S -> NP . VP PP>]\n",
      "state.agenda = ChartParsers.ActiveArc{Pair{Symbol,Array{Symbol,1}}}[<0, 2, S -> NP VP . PP>]\n"
     ]
    },
    {
     "data": {
      "text/plain": [
       "1-element Array{ChartParsers.PassiveArc{Pair{Symbol,Array{Symbol,1}}},1}:\n",
       " <0, 2, S -> NP VP .>"
      ]
     },
     "execution_count": 31,
     "metadata": {},
     "output_type": "execute_result"
    }
   ],
   "source": [
    "collect(Iterators.filter(is_complete(c), c))"
   ]
  },
  {
   "cell_type": "code",
   "execution_count": 16,
   "metadata": {},
   "outputs": [
    {
     "data": {
      "text/plain": [
       "0-element Array{ChartParsers.PassiveArc{Pair{Symbol,Array{Symbol,1}}},1}"
      ]
     },
     "execution_count": 16,
     "metadata": {},
     "output_type": "execute_result"
    }
   ],
   "source": [
    "collect(c.parses)"
   ]
  },
  {
   "cell_type": "code",
   "execution_count": 20,
   "metadata": {},
   "outputs": [
    {
     "name": "stdout",
     "output_type": "stream",
     "text": [
      "agenda = ChartParsers.ActiveArc{Pair{Symbol,Tuple{Vararg{Symbol,N}} where N}}[<0, 1, PN -> .>, <1, 2, IV -> .>]\n"
     ]
    },
    {
     "data": {
      "text/plain": [
       "Channel{ChartParsers.PassiveArc{Pair{Symbol,Tuple{Vararg{Symbol,N}} where N}}}(sz_max:0,sz_curr:1)"
      ]
     },
     "execution_count": 20,
     "metadata": {},
     "output_type": "execute_result"
    }
   ],
   "source": [
    "c = ChartParsers.chart_parse(split(\"mia danced\"), grammar, ChartParsers.BottomUp())"
   ]
  },
  {
   "cell_type": "code",
   "execution_count": 21,
   "metadata": {},
   "outputs": [
    {
     "name": "stdout",
     "output_type": "stream",
     "text": [
      "agenda = ChartParsers.ActiveArc{Pair{Symbol,Tuple{Vararg{Symbol,N}} where N}}[<0, 1, PN -> .>, <1, 1, VP -> . IV>]\n",
      "agenda = ChartParsers.ActiveArc{Pair{Symbol,Tuple{Vararg{Symbol,N}} where N}}[<0, 1, PN -> .>, <1, 2, VP -> IV .>]\n",
      "agenda = ChartParsers.ActiveArc{Pair{Symbol,Tuple{Vararg{Symbol,N}} where N}}[<0, 1, PN -> .>]\n",
      "agenda = ChartParsers.ActiveArc{Pair{Symbol,Tuple{Vararg{Symbol,N}} where N}}[<0, 0, NP -> . PN>]\n",
      "agenda = ChartParsers.ActiveArc{Pair{Symbol,Tuple{Vararg{Symbol,N}} where N}}[<0, 1, NP -> PN .>]\n",
      "agenda = ChartParsers.ActiveArc{Pair{Symbol,Tuple{Vararg{Symbol,N}} where N}}[<0, 0, S -> . NP VP PP>, <0, 0, S -> . NP VP>]\n",
      "agenda = ChartParsers.ActiveArc{Pair{Symbol,Tuple{Vararg{Symbol,N}} where N}}[<0, 0, S -> . NP VP PP>, <0, 1, S -> NP . VP>]\n",
      "agenda = ChartParsers.ActiveArc{Pair{Symbol,Tuple{Vararg{Symbol,N}} where N}}[<0, 0, S -> . NP VP PP>, <0, 2, S -> NP VP .>]\n",
      "agenda = ChartParsers.ActiveArc{Pair{Symbol,Tuple{Vararg{Symbol,N}} where N}}[<0, 0, S -> . NP VP PP>]\n",
      "agenda = ChartParsers.ActiveArc{Pair{Symbol,Tuple{Vararg{Symbol,N}} where N}}[<0, 1, S -> NP . VP PP>]\n",
      "agenda = ChartParsers.ActiveArc{Pair{Symbol,Tuple{Vararg{Symbol,N}} where N}}[<0, 2, S -> NP VP . PP>]\n"
     ]
    },
    {
     "data": {
      "text/plain": [
       "5-element Array{ChartParsers.PassiveArc{Pair{Symbol,Tuple{Vararg{Symbol,N}} where N}},1}:\n",
       " <1, 2, IV -> .>     \n",
       " <1, 2, VP -> IV .>  \n",
       " <0, 1, PN -> .>     \n",
       " <0, 1, NP -> PN .>  \n",
       " <0, 2, S -> NP VP .>"
      ]
     },
     "execution_count": 21,
     "metadata": {},
     "output_type": "execute_result"
    }
   ],
   "source": [
    "collect(c)"
   ]
  },
  {
   "cell_type": "code",
   "execution_count": 13,
   "metadata": {},
   "outputs": [
    {
     "data": {
      "text/plain": [
       "1-element Array{ChartParsers.PassiveArc{Pair{Symbol,Tuple{Vararg{Symbol,N}} where N}},1}:\n",
       " <0, 2, S -> NP VP .>"
      ]
     },
     "execution_count": 13,
     "metadata": {},
     "output_type": "execute_result"
    }
   ],
   "source": [
    "ChartParsers.find_parses(chart, 0, 2, :S)"
   ]
  },
  {
   "cell_type": "code",
   "execution_count": 13,
   "metadata": {
    "scrolled": false
   },
   "outputs": [
    {
     "name": "stdout",
     "output_type": "stream",
     "text": [
      "\u001b[32m\u001b[1m   Testing\u001b[22m\u001b[39m ChartParsers\n",
      "\u001b[32m\u001b[1m Resolving\u001b[22m\u001b[39m package versions...\n",
      "\u001b[32m\u001b[1m    Status\u001b[22m\u001b[39m `/tmp/tmp2JxoUL/Manifest.toml`\n",
      " \u001b[90m [de988000]\u001b[39m\u001b[92m + ChartParsers v0.0.1 [`~/Projects/probabilistic-parsing/ChartParsers`]\u001b[39m\n",
      " \u001b[90m [2a0f44e3]\u001b[39m\u001b[92m + Base64  [`@stdlib/Base64`]\u001b[39m\n",
      " \u001b[90m [8ba89e20]\u001b[39m\u001b[92m + Distributed  [`@stdlib/Distributed`]\u001b[39m\n",
      " \u001b[90m [b77e0a4c]\u001b[39m\u001b[92m + InteractiveUtils  [`@stdlib/InteractiveUtils`]\u001b[39m\n",
      " \u001b[90m [8f399da3]\u001b[39m\u001b[92m + Libdl  [`@stdlib/Libdl`]\u001b[39m\n",
      " \u001b[90m [37e2e46d]\u001b[39m\u001b[92m + LinearAlgebra  [`@stdlib/LinearAlgebra`]\u001b[39m\n",
      " \u001b[90m [56ddb016]\u001b[39m\u001b[92m + Logging  [`@stdlib/Logging`]\u001b[39m\n",
      " \u001b[90m [d6f4376e]\u001b[39m\u001b[92m + Markdown  [`@stdlib/Markdown`]\u001b[39m\n",
      " \u001b[90m [9a3f8284]\u001b[39m\u001b[92m + Random  [`@stdlib/Random`]\u001b[39m\n",
      " \u001b[90m [9e88b42a]\u001b[39m\u001b[92m + Serialization  [`@stdlib/Serialization`]\u001b[39m\n",
      " \u001b[90m [6462fe0b]\u001b[39m\u001b[92m + Sockets  [`@stdlib/Sockets`]\u001b[39m\n",
      " \u001b[90m [8dfed614]\u001b[39m\u001b[92m + Test  [`@stdlib/Test`]\u001b[39m\n"
     ]
    },
    {
     "name": "stderr",
     "output_type": "stream",
     "text": [
      "┌ Warning: Could not load Revise.\n",
      "└ @ Main ~/.julia/config/startup.jl:7\n"
     ]
    },
    {
     "name": "stdout",
     "output_type": "stream",
     "text": [
      "Test Summary:          | Pass  Total\n",
      "arc in chart detection |   12     12\n",
      "agenda = Arc[<0, 0, NP -> . PN>, <1, 2, IV -> #token .>]\n",
      "agenda = Arc[<0, 1, NP -> PN .>, <1, 2, IV -> #token .>]\n",
      "agenda = Arc[<0, 0, S -> . NP VP>, <0, 0, S -> . NP VP PP>, <1, 2, IV -> #token .>]\n",
      "agenda = Arc[<0, 1, S -> NP . VP>, <0, 0, S -> . NP VP PP>, <1, 2, IV -> #token .>]\n",
      "agenda = Arc[<0, 0, S -> . NP VP PP>, <1, 2, IV -> #token .>]\n",
      "agenda = Arc[<0, 1, S -> NP . VP PP>, <1, 2, IV -> #token .>]\n",
      "agenda = Arc[<1, 2, IV -> #token .>]\n",
      "agenda = Arc[<1, 1, VP -> . IV>]\n",
      "agenda = Arc[<1, 2, VP -> IV .>]\n",
      "agenda = Arc[<0, 2, S -> NP VP .>, <0, 2, S -> NP VP . PP>]\n",
      "agenda = Arc[<0, 2, S -> NP VP . PP>]\n",
      "agenda = Arc[]\n",
      "Test Summary:                | Pass  Total\n",
      "Example from nlp-with-prolog |    6      6\n",
      "agenda = Arc[<0, 0, NP -> . PN>, <1, 2, V -> #token .>, <2, 3, P -> #token .>, <3, 4, D -> #token .>, <4, 5, N -> #token .>, <5, 6, AV -> #token .>]\n",
      "agenda = Arc[<0, 1, NP -> PN .>, <1, 2, V -> #token .>, <2, 3, P -> #token .>, <3, 4, D -> #token .>, <4, 5, N -> #token .>, <5, 6, AV -> #token .>]\n",
      "agenda = Arc[<0, 0, S -> . NP VP>, <1, 2, V -> #token .>, <2, 3, P -> #token .>, <3, 4, D -> #token .>, <4, 5, N -> #token .>, <5, 6, AV -> #token .>]\n",
      "agenda = Arc[<0, 1, S -> NP . VP>, <1, 2, V -> #token .>, <2, 3, P -> #token .>, <3, 4, D -> #token .>, <4, 5, N -> #token .>, <5, 6, AV -> #token .>]\n",
      "agenda = Arc[<1, 2, V -> #token .>, <2, 3, P -> #token .>, <3, 4, D -> #token .>, <4, 5, N -> #token .>, <5, 6, AV -> #token .>]\n",
      "agenda = Arc[<1, 1, VP -> . V PP>, <1, 1, VP -> . V NP>, <2, 3, P -> #token .>, <3, 4, D -> #token .>, <4, 5, N -> #token .>, <5, 6, AV -> #token .>]\n",
      "agenda = Arc[<1, 2, VP -> V . PP>, <1, 1, VP -> . V NP>, <2, 3, P -> #token .>, <3, 4, D -> #token .>, <4, 5, N -> #token .>, <5, 6, AV -> #token .>]\n",
      "agenda = Arc[<1, 1, VP -> . V NP>, <2, 3, P -> #token .>, <3, 4, D -> #token .>, <4, 5, N -> #token .>, <5, 6, AV -> #token .>]\n",
      "agenda = Arc[<1, 2, VP -> V . NP>, <2, 3, P -> #token .>, <3, 4, D -> #token .>, <4, 5, N -> #token .>, <5, 6, AV -> #token .>]\n",
      "agenda = Arc[<2, 3, P -> #token .>, <3, 4, D -> #token .>, <4, 5, N -> #token .>, <5, 6, AV -> #token .>]\n",
      "agenda = Arc[<2, 2, PP -> . P NP>, <3, 4, D -> #token .>, <4, 5, N -> #token .>, <5, 6, AV -> #token .>]\n",
      "agenda = Arc[<2, 3, PP -> P . NP>, <3, 4, D -> #token .>, <4, 5, N -> #token .>, <5, 6, AV -> #token .>]\n",
      "agenda = Arc[<3, 4, D -> #token .>, <4, 5, N -> #token .>, <5, 6, AV -> #token .>]\n",
      "agenda = Arc[<3, 3, NP -> . D N>, <4, 5, N -> #token .>, <5, 6, AV -> #token .>]\n",
      "agenda = Arc[<3, 4, NP -> D . N>, <4, 5, N -> #token .>, <5, 6, AV -> #token .>]\n",
      "agenda = Arc[<4, 5, N -> #token .>, <5, 6, AV -> #token .>]\n",
      "agenda = Arc[<3, 5, NP -> D N .>, <5, 6, AV -> #token .>]\n",
      "agenda = Arc[<3, 3, S -> . NP VP>, <2, 5, PP -> P NP .>, <5, 6, AV -> #token .>]\n",
      "agenda = Arc[<3, 5, S -> NP . VP>, <2, 5, PP -> P NP .>, <5, 6, AV -> #token .>]\n",
      "agenda = Arc[<2, 5, PP -> P NP .>, <5, 6, AV -> #token .>]\n",
      "agenda = Arc[<1, 5, VP -> V PP .>, <5, 6, AV -> #token .>]\n",
      "agenda = Arc[<1, 1, VP -> . VP AV>, <0, 5, S -> NP VP .>, <5, 6, AV -> #token .>]\n",
      "agenda = Arc[<1, 5, VP -> VP . AV>, <0, 5, S -> NP VP .>, <5, 6, AV -> #token .>]\n",
      "agenda = Arc[<0, 5, S -> NP VP .>, <5, 6, AV -> #token .>]\n",
      "agenda = Arc[<5, 6, AV -> #token .>]\n",
      "agenda = Arc[<1, 6, VP -> VP AV .>]\n",
      "agenda = Arc[<0, 6, S -> NP VP .>, <1, 6, VP -> VP . AV>]\n",
      "agenda = Arc[<1, 6, VP -> VP . AV>]\n",
      "agenda = Arc[]\n",
      "Test Summary:  | Pass  Total\n",
      "longer example |    2      2\n",
      "\u001b[32m\u001b[1m   Testing\u001b[22m\u001b[39m ChartParsers tests passed \n"
     ]
    }
   ],
   "source": [
    "pkg\"test ChartParsers\""
   ]
  },
  {
   "cell_type": "code",
   "execution_count": 15,
   "metadata": {},
   "outputs": [
    {
     "name": "stdout",
     "output_type": "stream",
     "text": [
      "agenda = ChartParsers.Arc[<0, 0, NP -> . PN>, <0, 0, S -> . NP VP>]\n",
      "agenda = ChartParsers.Arc[<0, 1, NP -> PN .>, <0, 0, S -> . NP VP>]\n",
      "agenda = ChartParsers.Arc[<0, 1, S -> NP . VP PP>, <0, 0, S -> . NP VP>]\n",
      "agenda = ChartParsers.Arc[<1, 1, VP -> . IV>, <0, 0, S -> . NP VP>]\n",
      "agenda = ChartParsers.Arc[<1, 2, VP -> IV .>, <0, 0, S -> . NP VP>]\n",
      "agenda = ChartParsers.Arc[<0, 2, S -> NP VP . PP>, <0, 0, S -> . NP VP>]\n",
      "agenda = ChartParsers.Arc[<2, 2, PP -> . P NP>, <0, 0, S -> . NP VP>]\n",
      "agenda = ChartParsers.Arc[<0, 0, S -> . NP VP>]\n",
      "agenda = ChartParsers.Arc[<0, 1, S -> NP . VP>]\n",
      "agenda = ChartParsers.Arc[<0, 2, S -> NP VP .>]\n",
      "agenda = ChartParsers.Arc[]\n"
     ]
    },
    {
     "data": {
      "text/plain": [
       "Chart(2, Dict(:NP=>[Set([<0, 0, S -> . NP VP>, <0, 0, S -> . NP VP PP>]), Set([]), Set([])],:P=>[Set([]), Set([]), Set([<2, 2, PP -> . P NP>])],:IV=>[Set([]), Set([<1, 1, VP -> . IV>]), Set([])],:VP=>[Set([]), Set([<0, 1, S -> NP . VP>, <0, 1, S -> NP . VP PP>]), Set([])],:PP=>[Set([]), Set([]), Set([<0, 2, S -> NP VP . PP>])],:PN=>[Set([<0, 0, NP -> . PN>]), Set([]), Set([])],:S=>[Set([]), Set([]), Set([])]), Dict(:NP=>[Set([<0, 1, NP -> PN .>]), Set([]), Set([])],:P=>[Set([]), Set([]), Set([])],:IV=>[Set([]), Set([<1, 2, IV -> #token .>]), Set([])],:VP=>[Set([]), Set([<1, 2, VP -> IV .>]), Set([])],:PP=>[Set([]), Set([]), Set([])],:PN=>[Set([<0, 1, PN -> #token .>]), Set([]), Set([])],:S=>[Set([<0, 2, S -> NP VP .>]), Set([]), Set([])]))"
      ]
     },
     "execution_count": 15,
     "metadata": {},
     "output_type": "execute_result"
    }
   ],
   "source": [
    "chart = ChartParsers.parse(split(\"mia danced\"), grammar, ChartParsers.TopDown())"
   ]
  },
  {
   "cell_type": "code",
   "execution_count": 16,
   "metadata": {},
   "outputs": [
    {
     "name": "stdout",
     "output_type": "stream",
     "text": [
      "agenda = ChartParsers.Arc[<0, 0, NP -> . PN>, <1, 2, V -> #token .>, <2, 3, P -> #token .>, <3, 4, D -> #token .>, <4, 5, N -> #token .>, <5, 6, AV -> #token .>]\n",
      "agenda = ChartParsers.Arc[<0, 1, NP -> PN .>, <1, 2, V -> #token .>, <2, 3, P -> #token .>, <3, 4, D -> #token .>, <4, 5, N -> #token .>, <5, 6, AV -> #token .>]\n",
      "agenda = ChartParsers.Arc[<0, 0, S -> . NP VP>, <1, 2, V -> #token .>, <2, 3, P -> #token .>, <3, 4, D -> #token .>, <4, 5, N -> #token .>, <5, 6, AV -> #token .>]\n",
      "agenda = ChartParsers.Arc[<0, 1, S -> NP . VP>, <1, 2, V -> #token .>, <2, 3, P -> #token .>, <3, 4, D -> #token .>, <4, 5, N -> #token .>, <5, 6, AV -> #token .>]\n",
      "agenda = ChartParsers.Arc[<1, 2, V -> #token .>, <2, 3, P -> #token .>, <3, 4, D -> #token .>, <4, 5, N -> #token .>, <5, 6, AV -> #token .>]\n",
      "agenda = ChartParsers.Arc[<1, 1, VP -> . V PP>, <1, 1, VP -> . V NP>, <2, 3, P -> #token .>, <3, 4, D -> #token .>, <4, 5, N -> #token .>, <5, 6, AV -> #token .>]\n",
      "agenda = ChartParsers.Arc[<1, 2, VP -> V . PP>, <1, 1, VP -> . V NP>, <2, 3, P -> #token .>, <3, 4, D -> #token .>, <4, 5, N -> #token .>, <5, 6, AV -> #token .>]\n",
      "agenda = ChartParsers.Arc[<1, 1, VP -> . V NP>, <2, 3, P -> #token .>, <3, 4, D -> #token .>, <4, 5, N -> #token .>, <5, 6, AV -> #token .>]\n",
      "agenda = ChartParsers.Arc[<1, 2, VP -> V . NP>, <2, 3, P -> #token .>, <3, 4, D -> #token .>, <4, 5, N -> #token .>, <5, 6, AV -> #token .>]\n",
      "agenda = ChartParsers.Arc[<2, 3, P -> #token .>, <3, 4, D -> #token .>, <4, 5, N -> #token .>, <5, 6, AV -> #token .>]\n",
      "agenda = ChartParsers.Arc[<2, 2, PP -> . P NP>, <3, 4, D -> #token .>, <4, 5, N -> #token .>, <5, 6, AV -> #token .>]\n",
      "agenda = ChartParsers.Arc[<2, 3, PP -> P . NP>, <3, 4, D -> #token .>, <4, 5, N -> #token .>, <5, 6, AV -> #token .>]\n",
      "agenda = ChartParsers.Arc[<3, 4, D -> #token .>, <4, 5, N -> #token .>, <5, 6, AV -> #token .>]\n",
      "agenda = ChartParsers.Arc[<3, 3, NP -> . D N>, <4, 5, N -> #token .>, <5, 6, AV -> #token .>]\n",
      "agenda = ChartParsers.Arc[<3, 4, NP -> D . N>, <4, 5, N -> #token .>, <5, 6, AV -> #token .>]\n",
      "agenda = ChartParsers.Arc[<4, 5, N -> #token .>, <5, 6, AV -> #token .>]\n",
      "agenda = ChartParsers.Arc[<3, 5, NP -> D N .>, <5, 6, AV -> #token .>]\n",
      "agenda = ChartParsers.Arc[<3, 3, S -> . NP VP>, <2, 5, PP -> P NP .>, <5, 6, AV -> #token .>]\n",
      "agenda = ChartParsers.Arc[<3, 5, S -> NP . VP>, <2, 5, PP -> P NP .>, <5, 6, AV -> #token .>]\n",
      "agenda = ChartParsers.Arc[<2, 5, PP -> P NP .>, <5, 6, AV -> #token .>]\n",
      "agenda = ChartParsers.Arc[<1, 5, VP -> V PP .>, <5, 6, AV -> #token .>]\n",
      "agenda = ChartParsers.Arc[<1, 1, VP -> . VP AV>, <0, 5, S -> NP VP .>, <5, 6, AV -> #token .>]\n",
      "agenda = ChartParsers.Arc[<1, 5, VP -> VP . AV>, <0, 5, S -> NP VP .>, <5, 6, AV -> #token .>]\n",
      "agenda = ChartParsers.Arc[<0, 5, S -> NP VP .>, <5, 6, AV -> #token .>]\n",
      "agenda = ChartParsers.Arc[<5, 6, AV -> #token .>]\n",
      "agenda = ChartParsers.Arc[<1, 6, VP -> VP AV .>]\n",
      "agenda = ChartParsers.Arc[<1, 6, VP -> VP . AV>, <0, 6, S -> NP VP .>]\n",
      "agenda = ChartParsers.Arc[<0, 6, S -> NP VP .>]\n",
      "agenda = ChartParsers.Arc[]\n"
     ]
    },
    {
     "data": {
      "text/plain": [
       "Set(ChartParsers.Arc[<0, 6, S -> NP VP .>])"
      ]
     },
     "execution_count": 16,
     "metadata": {},
     "output_type": "execute_result"
    }
   ],
   "source": [
    "tokens = split(\"mary sat on the table yesterday\")\n",
    "grammar = [\n",
    "    :S => [:NP, :VP],\n",
    "    :NP => [:PN],\n",
    "    :VP => [:V, :NP],\n",
    "    :VP => [:V, :PP],\n",
    "    :VP => [:VP, :AV],\n",
    "    :PP => [:P, :NP],\n",
    "    :NP => [:D, :N]\n",
    "]\n",
    "labels = Dict(\n",
    "    \"mary\" => [:PN],\n",
    "    \"sat\" => [:V],\n",
    "    \"on\" => [:P],\n",
    "    \"the\" => [:D],\n",
    "    \"table\" => [:N],\n",
    "    \"yesterday\" => [:AV]\n",
    ")\n",
    "chart = ChartParsers.parse(tokens, ChartParsers.Grammar(grammar, labels))\n",
    "parses = ChartParsers.complete_parses(chart)"
   ]
  },
  {
   "cell_type": "code",
   "execution_count": 17,
   "metadata": {},
   "outputs": [
    {
     "name": "stdout",
     "output_type": "stream",
     "text": [
      "(S\n",
      "  (NP (PN \"mary\"))\n",
      "  (VP\n",
      "    (VP\n",
      "      (V \"sat\")\n",
      "      (PP\n",
      "        (P \"on\")\n",
      "        (NP\n",
      "          (D \"the\")\n",
      "          (N \"table\"))))\n",
      "    (AV \"yesterday\")))"
     ]
    }
   ],
   "source": [
    "ChartParsers.expand(first(parses))"
   ]
  },
  {
   "cell_type": "code",
   "execution_count": null,
   "metadata": {},
   "outputs": [],
   "source": []
  }
 ],
 "metadata": {
  "@webio": {
   "lastCommId": "717a29d8b24144509fd8597e7d22b0e6",
   "lastKernelId": "8aef76ac-c9af-48f3-b889-5df73d3546ff"
  },
  "kernelspec": {
   "display_name": "Julia 1.1.0",
   "language": "julia",
   "name": "julia-1.1"
  },
  "language_info": {
   "file_extension": ".jl",
   "mimetype": "application/julia",
   "name": "julia",
   "version": "1.1.0"
  }
 },
 "nbformat": 4,
 "nbformat_minor": 2
}
